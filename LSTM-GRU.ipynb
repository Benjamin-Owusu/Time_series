{
 "cells": [
  {
   "cell_type": "markdown",
   "id": "4e21339e-de35-4d88-87a4-202a5ff4682b",
   "metadata": {},
   "source": [
    "### Recurrent Neural network"
   ]
  },
  {
   "cell_type": "markdown",
   "id": "c6f7bc79-a199-4ee0-8669-2c7939373bd7",
   "metadata": {},
   "source": [
    "*In this exercise, we use Recurrent neural network (RNN) to predict German HICP inflation for similar dataset ('HICP_Ger.csv'), once again employing a univariate time series forecasting technique.*\n",
    "\n",
    "*RNNs are a type of neural network used mainly for sequencial data such as time series forecasting and natural language processing.\n",
    "RNNS suffer from the so-called vanishing gradient problem which arises during the process of model training when the gradient shrinks and becomes smaller during backwards propagations. This results in difficulties for the model to learn from very distant sequencial information* \n",
    "\n",
    "\n",
    "#### Long Short Term Memory\n",
    "*LSTM overcome the vanishing gradient problem by employing some kind of comlex internal structure referred to as cells. These cells uses specialized gates (forget gates, input gates and output gates) to regulate the flow of information to and fro the cells, and this helps to control the long-terms information flow thereby mitigating/managing the vanishing gradient problem*"
   ]
  },
  {
   "cell_type": "markdown",
   "id": "6a5dacfa-5204-4baf-9515-5b5cf697e7a5",
   "metadata": {},
   "source": [
    "*We begin by importing the appropriate libraries below.*"
   ]
  },
  {
   "cell_type": "code",
   "execution_count": 2,
   "id": "866592af-406a-4356-8c8e-049a0f33094a",
   "metadata": {
    "tags": []
   },
   "outputs": [],
   "source": [
    "import numpy as np\n",
    "import pandas as pd\n",
    "import matplotlib.pyplot as plt\n",
    "import torch\n",
    "import torch.nn as nn\n",
    "from sklearn.preprocessing import MinMaxScaler \n",
    "\n",
    "import optuna\n",
    "import torch.optim as optim # Optunais a powerful hyperparameter optimization framework.\n",
    "from torch.utils.data import DataLoader, TensorDataset\n",
    "from copy import deepcopy as dc\n",
    "\n",
    "import warnings\n",
    "warnings.filterwarnings(\"ignore\")"
   ]
  },
  {
   "cell_type": "markdown",
   "id": "45947558-3fb3-4451-9024-844da91e9546",
   "metadata": {},
   "source": [
    "*Next, we import and clean the data, similar to scripts used for the ARIMA models. Please check the scripts for ARIMA for more details*"
   ]
  },
  {
   "cell_type": "code",
   "execution_count": 3,
   "id": "8d66881c-cbee-4643-9b28-a89dc662b81a",
   "metadata": {
    "tags": []
   },
   "outputs": [
    {
     "data": {
      "text/html": [
       "<div>\n",
       "<style scoped>\n",
       "    .dataframe tbody tr th:only-of-type {\n",
       "        vertical-align: middle;\n",
       "    }\n",
       "\n",
       "    .dataframe tbody tr th {\n",
       "        vertical-align: top;\n",
       "    }\n",
       "\n",
       "    .dataframe thead th {\n",
       "        text-align: right;\n",
       "    }\n",
       "</style>\n",
       "<table border=\"1\" class=\"dataframe\">\n",
       "  <thead>\n",
       "    <tr style=\"text-align: right;\">\n",
       "      <th></th>\n",
       "      <th>\"DATE</th>\n",
       "      <th>\"\"TIME</th>\n",
       "      <th>PERIOD\"\"</th>\n",
       "      <th>\"\"HICP</th>\n",
       "      <th>\"\"\"</th>\n",
       "    </tr>\n",
       "  </thead>\n",
       "  <tbody>\n",
       "    <tr>\n",
       "      <th>0</th>\n",
       "      <td>\"1996-01-31</td>\n",
       "      <td>\"\"1996Jan\"\"</td>\n",
       "      <td>\"\"0.5\"\"\"</td>\n",
       "      <td>NaN</td>\n",
       "      <td>NaN</td>\n",
       "    </tr>\n",
       "    <tr>\n",
       "      <th>1</th>\n",
       "      <td>\"1996-02-29</td>\n",
       "      <td>\"\"1996Feb\"\"</td>\n",
       "      <td>\"\"0.7\"\"\"</td>\n",
       "      <td>NaN</td>\n",
       "      <td>NaN</td>\n",
       "    </tr>\n",
       "    <tr>\n",
       "      <th>2</th>\n",
       "      <td>\"1996-03-31</td>\n",
       "      <td>\"\"1996Mar\"\"</td>\n",
       "      <td>\"\"0.8\"\"\"</td>\n",
       "      <td>NaN</td>\n",
       "      <td>NaN</td>\n",
       "    </tr>\n",
       "    <tr>\n",
       "      <th>3</th>\n",
       "      <td>\"1996-04-30</td>\n",
       "      <td>\"\"1996Apr\"\"</td>\n",
       "      <td>\"\"0.5\"\"\"</td>\n",
       "      <td>NaN</td>\n",
       "      <td>NaN</td>\n",
       "    </tr>\n",
       "    <tr>\n",
       "      <th>4</th>\n",
       "      <td>\"1996-05-31</td>\n",
       "      <td>\"\"1996May\"\"</td>\n",
       "      <td>\"\"0.7\"\"\"</td>\n",
       "      <td>NaN</td>\n",
       "      <td>NaN</td>\n",
       "    </tr>\n",
       "  </tbody>\n",
       "</table>\n",
       "</div>"
      ],
      "text/plain": [
       "         \"DATE       \"\"TIME  PERIOD\"\"  \"\"HICP  \"\"\"\n",
       "0  \"1996-01-31  \"\"1996Jan\"\"  \"\"0.5\"\"\"     NaN  NaN\n",
       "1  \"1996-02-29  \"\"1996Feb\"\"  \"\"0.7\"\"\"     NaN  NaN\n",
       "2  \"1996-03-31  \"\"1996Mar\"\"  \"\"0.8\"\"\"     NaN  NaN\n",
       "3  \"1996-04-30  \"\"1996Apr\"\"  \"\"0.5\"\"\"     NaN  NaN\n",
       "4  \"1996-05-31  \"\"1996May\"\"  \"\"0.7\"\"\"     NaN  NaN"
      ]
     },
     "execution_count": 3,
     "metadata": {},
     "output_type": "execute_result"
    }
   ],
   "source": [
    "df = pd.read_csv('HICP_Ger.csv', sep='\\\\s+|,', engine=\"python\")\n",
    "df.head()"
   ]
  },
  {
   "cell_type": "code",
   "execution_count": 4,
   "id": "1e7fa793-1619-48a4-a882-984912dc8ae1",
   "metadata": {
    "tags": []
   },
   "outputs": [],
   "source": [
    "columns_to_drop = [1, 3, 4]\n",
    "df.drop(df.columns[columns_to_drop], axis=1, inplace=True)\n",
    "df.columns = df.columns.str.replace('\"', '')\n",
    "df.rename(columns = {\"PERIOD\":\"HICP\"}, inplace = True)\n",
    "        "
   ]
  },
  {
   "cell_type": "code",
   "execution_count": 5,
   "id": "97059c7a-ce82-4be4-810e-01670fbdfa94",
   "metadata": {
    "tags": []
   },
   "outputs": [
    {
     "data": {
      "text/html": [
       "<div>\n",
       "<style scoped>\n",
       "    .dataframe tbody tr th:only-of-type {\n",
       "        vertical-align: middle;\n",
       "    }\n",
       "\n",
       "    .dataframe tbody tr th {\n",
       "        vertical-align: top;\n",
       "    }\n",
       "\n",
       "    .dataframe thead th {\n",
       "        text-align: right;\n",
       "    }\n",
       "</style>\n",
       "<table border=\"1\" class=\"dataframe\">\n",
       "  <thead>\n",
       "    <tr style=\"text-align: right;\">\n",
       "      <th></th>\n",
       "      <th>DATE</th>\n",
       "      <th>HICP</th>\n",
       "    </tr>\n",
       "  </thead>\n",
       "  <tbody>\n",
       "    <tr>\n",
       "      <th>0</th>\n",
       "      <td>1996-01-31</td>\n",
       "      <td>0.5</td>\n",
       "    </tr>\n",
       "    <tr>\n",
       "      <th>1</th>\n",
       "      <td>1996-02-29</td>\n",
       "      <td>0.7</td>\n",
       "    </tr>\n",
       "    <tr>\n",
       "      <th>2</th>\n",
       "      <td>1996-03-31</td>\n",
       "      <td>0.8</td>\n",
       "    </tr>\n",
       "    <tr>\n",
       "      <th>3</th>\n",
       "      <td>1996-04-30</td>\n",
       "      <td>0.5</td>\n",
       "    </tr>\n",
       "    <tr>\n",
       "      <th>4</th>\n",
       "      <td>1996-05-31</td>\n",
       "      <td>0.7</td>\n",
       "    </tr>\n",
       "  </tbody>\n",
       "</table>\n",
       "</div>"
      ],
      "text/plain": [
       "         DATE HICP\n",
       "0  1996-01-31  0.5\n",
       "1  1996-02-29  0.7\n",
       "2  1996-03-31  0.8\n",
       "3  1996-04-30  0.5\n",
       "4  1996-05-31  0.7"
      ]
     },
     "execution_count": 5,
     "metadata": {},
     "output_type": "execute_result"
    }
   ],
   "source": [
    "for cols in df:\n",
    "    df[cols] = df[cols].str.strip('\"')\n",
    "\n",
    "df.head()"
   ]
  },
  {
   "cell_type": "code",
   "execution_count": 6,
   "id": "febe7347-f5d0-438f-8fd9-2a52c77c141c",
   "metadata": {
    "tags": []
   },
   "outputs": [],
   "source": [
    "df['HICP'] = pd.to_numeric(df['HICP'])"
   ]
  },
  {
   "cell_type": "code",
   "execution_count": 7,
   "id": "e4035e66-c997-4b41-be82-e70344bc341b",
   "metadata": {
    "tags": []
   },
   "outputs": [
    {
     "data": {
      "text/plain": [
       "DatetimeIndex(['1996-01-31', '1996-02-29', '1996-03-31', '1996-04-30',\n",
       "               '1996-05-31', '1996-06-30', '1996-07-31', '1996-08-31',\n",
       "               '1996-09-30', '1996-10-31',\n",
       "               ...\n",
       "               '2023-08-31', '2023-09-30', '2023-10-31', '2023-11-30',\n",
       "               '2023-12-31', '2024-01-31', '2024-02-29', '2024-03-31',\n",
       "               '2024-04-30', '2024-05-31'],\n",
       "              dtype='datetime64[ns]', name='DATE', length=341, freq='M')"
      ]
     },
     "execution_count": 7,
     "metadata": {},
     "output_type": "execute_result"
    }
   ],
   "source": [
    "df.set_index(\"DATE\", inplace = True)\n",
    "df.index = pd.to_datetime(df.index)\n",
    "df.index.freq = \"M\"\n",
    "df.index"
   ]
  },
  {
   "cell_type": "markdown",
   "id": "f09f945b-1718-469b-ba0d-95cc3d2dc0d9",
   "metadata": {},
   "source": [
    "*PLotting of the HICP inflation series*"
   ]
  },
  {
   "cell_type": "code",
   "execution_count": 8,
   "id": "4ba67102-093e-4098-9aaf-e6cffeb69b9a",
   "metadata": {
    "tags": []
   },
   "outputs": [
    {
     "data": {
      "image/png": "[encoded data removed]",
      "text/plain": [
       "<Figure size 640x480 with 1 Axes>"
      ]
     },
     "metadata": {},
     "output_type": "display_data"
    }
   ],
   "source": [
    "df['HICP'].plot();"
   ]
  },
  {
   "cell_type": "markdown",
   "id": "0228dc6f-2793-4a83-9e00-f9ca2ae39f9b",
   "metadata": {
    "tags": []
   },
   "source": [
    "#### Preparing the data\n",
    "*In in order ensure that the data is suitable for supervised learning, we present the data in a form such that up to 12 lags of the series is used to predict current values of inflation. That implies transforming the dataset by creating lagged versions of the original series via sliding windows. Remember in a supervised learning setting, the idea is to train a model to learn the relationship that exist between the input variable (features) and the target variable. The lagged series in this case represents the features whilst the original series is the target*"
   ]
  },
  {
   "cell_type": "code",
   "execution_count": 9,
   "id": "a7b82325-e9e1-433b-969e-47fb8735b037",
   "metadata": {
    "tags": []
   },
   "outputs": [],
   "source": [
    "def series_to_supervised(data, n_in=1, n_out=1, dropnan=True):\n",
    "    n_vars = 1 if len(data.shape) == 1 else data.shape[1]\n",
    "    df = pd.DataFrame(data)\n",
    "    cols, names = list(), list()\n",
    "    # input sequence (t-n, ... t-1)\n",
    "    for i in range(n_in, 0, -1):\n",
    "        cols.append(df.shift(i))\n",
    "        names += [(\"var%d(t-%d)\" % (j + 1, i)) for j in range(n_vars)]\n",
    "    # forecast sequence (t, t+1, ... t+n)\n",
    "    for i in range(0, n_out):\n",
    "        cols.append(df.shift(-i))\n",
    "        if i == 0:\n",
    "            names += [(\"var%d(t)\" % (j + 1)) for j in range(n_vars)]\n",
    "        else:\n",
    "            names += [(\"var%d(t+%d)\" % (j + 1, i)) for j in range(n_vars)]\n",
    "    # put it all together\n",
    "    agg = pd.concat(cols, axis=1)\n",
    "    agg.columns = names\n",
    "    # drop rows with NaN values\n",
    "    if dropnan:\n",
    "        agg.dropna(inplace=True)\n",
    "    return agg"
   ]
  },
  {
   "cell_type": "code",
   "execution_count": 10,
   "id": "3dfc5caf-cdf6-472b-bbc7-74081b9a3851",
   "metadata": {
    "tags": []
   },
   "outputs": [
    {
     "data": {
      "text/html": [
       "<div>\n",
       "<style scoped>\n",
       "    .dataframe tbody tr th:only-of-type {\n",
       "        vertical-align: middle;\n",
       "    }\n",
       "\n",
       "    .dataframe tbody tr th {\n",
       "        vertical-align: top;\n",
       "    }\n",
       "\n",
       "    .dataframe thead th {\n",
       "        text-align: right;\n",
       "    }\n",
       "</style>\n",
       "<table border=\"1\" class=\"dataframe\">\n",
       "  <thead>\n",
       "    <tr style=\"text-align: right;\">\n",
       "      <th></th>\n",
       "      <th>var1(t-12)</th>\n",
       "      <th>var1(t-11)</th>\n",
       "      <th>var1(t-10)</th>\n",
       "      <th>var1(t-9)</th>\n",
       "      <th>var1(t-8)</th>\n",
       "      <th>var1(t-7)</th>\n",
       "      <th>var1(t-6)</th>\n",
       "      <th>var1(t-5)</th>\n",
       "      <th>var1(t-4)</th>\n",
       "      <th>var1(t-3)</th>\n",
       "      <th>var1(t-2)</th>\n",
       "      <th>var1(t-1)</th>\n",
       "      <th>var1(t)</th>\n",
       "    </tr>\n",
       "    <tr>\n",
       "      <th>DATE</th>\n",
       "      <th></th>\n",
       "      <th></th>\n",
       "      <th></th>\n",
       "      <th></th>\n",
       "      <th></th>\n",
       "      <th></th>\n",
       "      <th></th>\n",
       "      <th></th>\n",
       "      <th></th>\n",
       "      <th></th>\n",
       "      <th></th>\n",
       "      <th></th>\n",
       "      <th></th>\n",
       "    </tr>\n",
       "  </thead>\n",
       "  <tbody>\n",
       "    <tr>\n",
       "      <th>1997-01-31</th>\n",
       "      <td>0.5</td>\n",
       "      <td>0.7</td>\n",
       "      <td>0.8</td>\n",
       "      <td>0.5</td>\n",
       "      <td>0.7</td>\n",
       "      <td>0.5</td>\n",
       "      <td>0.7</td>\n",
       "      <td>0.5</td>\n",
       "      <td>0.7</td>\n",
       "      <td>0.8</td>\n",
       "      <td>0.7</td>\n",
       "      <td>0.7</td>\n",
       "      <td>1.9</td>\n",
       "    </tr>\n",
       "    <tr>\n",
       "      <th>1997-02-28</th>\n",
       "      <td>0.7</td>\n",
       "      <td>0.8</td>\n",
       "      <td>0.5</td>\n",
       "      <td>0.7</td>\n",
       "      <td>0.5</td>\n",
       "      <td>0.7</td>\n",
       "      <td>0.5</td>\n",
       "      <td>0.7</td>\n",
       "      <td>0.8</td>\n",
       "      <td>0.7</td>\n",
       "      <td>0.7</td>\n",
       "      <td>1.9</td>\n",
       "      <td>1.6</td>\n",
       "    </tr>\n",
       "    <tr>\n",
       "      <th>1997-03-31</th>\n",
       "      <td>0.8</td>\n",
       "      <td>0.5</td>\n",
       "      <td>0.7</td>\n",
       "      <td>0.5</td>\n",
       "      <td>0.7</td>\n",
       "      <td>0.5</td>\n",
       "      <td>0.7</td>\n",
       "      <td>0.8</td>\n",
       "      <td>0.7</td>\n",
       "      <td>0.7</td>\n",
       "      <td>1.9</td>\n",
       "      <td>1.6</td>\n",
       "      <td>1.3</td>\n",
       "    </tr>\n",
       "    <tr>\n",
       "      <th>1997-04-30</th>\n",
       "      <td>0.5</td>\n",
       "      <td>0.7</td>\n",
       "      <td>0.5</td>\n",
       "      <td>0.7</td>\n",
       "      <td>0.5</td>\n",
       "      <td>0.7</td>\n",
       "      <td>0.8</td>\n",
       "      <td>0.7</td>\n",
       "      <td>0.7</td>\n",
       "      <td>1.9</td>\n",
       "      <td>1.6</td>\n",
       "      <td>1.3</td>\n",
       "      <td>1.2</td>\n",
       "    </tr>\n",
       "    <tr>\n",
       "      <th>1997-05-31</th>\n",
       "      <td>0.7</td>\n",
       "      <td>0.5</td>\n",
       "      <td>0.7</td>\n",
       "      <td>0.5</td>\n",
       "      <td>0.7</td>\n",
       "      <td>0.8</td>\n",
       "      <td>0.7</td>\n",
       "      <td>0.7</td>\n",
       "      <td>1.9</td>\n",
       "      <td>1.6</td>\n",
       "      <td>1.3</td>\n",
       "      <td>1.2</td>\n",
       "      <td>1.5</td>\n",
       "    </tr>\n",
       "  </tbody>\n",
       "</table>\n",
       "</div>"
      ],
      "text/plain": [
       "            var1(t-12)  var1(t-11)  var1(t-10)  var1(t-9)  var1(t-8)  \\\n",
       "DATE                                                                   \n",
       "1997-01-31         0.5         0.7         0.8        0.5        0.7   \n",
       "1997-02-28         0.7         0.8         0.5        0.7        0.5   \n",
       "1997-03-31         0.8         0.5         0.7        0.5        0.7   \n",
       "1997-04-30         0.5         0.7         0.5        0.7        0.5   \n",
       "1997-05-31         0.7         0.5         0.7        0.5        0.7   \n",
       "\n",
       "            var1(t-7)  var1(t-6)  var1(t-5)  var1(t-4)  var1(t-3)  var1(t-2)  \\\n",
       "DATE                                                                           \n",
       "1997-01-31        0.5        0.7        0.5        0.7        0.8        0.7   \n",
       "1997-02-28        0.7        0.5        0.7        0.8        0.7        0.7   \n",
       "1997-03-31        0.5        0.7        0.8        0.7        0.7        1.9   \n",
       "1997-04-30        0.7        0.8        0.7        0.7        1.9        1.6   \n",
       "1997-05-31        0.8        0.7        0.7        1.9        1.6        1.3   \n",
       "\n",
       "            var1(t-1)  var1(t)  \n",
       "DATE                            \n",
       "1997-01-31        0.7      1.9  \n",
       "1997-02-28        1.9      1.6  \n",
       "1997-03-31        1.6      1.3  \n",
       "1997-04-30        1.3      1.2  \n",
       "1997-05-31        1.2      1.5  "
      ]
     },
     "execution_count": 10,
     "metadata": {},
     "output_type": "execute_result"
    }
   ],
   "source": [
    "data = series_to_supervised(df,12)\n",
    "data.head()"
   ]
  },
  {
   "cell_type": "markdown",
   "id": "128a6b60-d8f0-47b8-8524-5196a1784d7c",
   "metadata": {},
   "source": [
    "*From the above transformed dataset, the lagged values of the series (from var(t-1) to var1(t-12) are used to predict the original series var1(t)*\n",
    "\n",
    "#### Train and test sets\n",
    "*Next we divide the data into train and test sets. The trained data would be used for building the model for forecasting and test data would be used for model evaluation purposes. For the test data, we use the last 12 months since the idea is to predict inflation for the next year (12 months).*"
   ]
  },
  {
   "cell_type": "code",
   "execution_count": 11,
   "id": "fe79010b-e784-40c9-9862-67d7484ae7fe",
   "metadata": {
    "tags": []
   },
   "outputs": [],
   "source": [
    "split_count = len(data)-12\n",
    "df_train = data.iloc[:split_count]\n",
    "df_test  = data.iloc[split_count:]"
   ]
  },
  {
   "cell_type": "markdown",
   "id": "2a5b2d2e-d88d-481e-a12e-dd8dedcebfdb",
   "metadata": {},
   "source": [
    "#### Rescaling data\n",
    "\n",
    "*In what follows below, the data is scaled with MinMaxscaler. This is to ensure that the input features have the same scale. When this is not the case (case of varying scale of input features), it could lead to slow convergence of the model training.\n",
    "LSTM models benefit from having input features with consistent scales which makes it easier for the model to learn. Features with varying scales can lead to slow convergence during training.*"
   ]
  },
  {
   "cell_type": "code",
   "execution_count": 13,
   "id": "eee083f4-d5d7-42a1-8e56-679dce4213e8",
   "metadata": {
    "tags": []
   },
   "outputs": [],
   "source": [
    "# Select the target column\n",
    "target_column = 'var1(t)'\n",
    "\n",
    "\n",
    "scaler = MinMaxScaler(feature_range=(-1, 1))\n",
    "train_scaled = scaler.fit_transform(df_train[[target_column]])\n",
    "test_scaled = scaler.transform(df_test[[target_column]])\n",
    "\n",
    "# Prepare the training and testing datasets\n",
    "X_train = df_train.drop(columns=[target_column]).values\n",
    "y_train = train_scaled\n",
    "\n",
    "X_test = df_test.drop(columns=[target_column]).values\n",
    "y_test = test_scaled\n",
    "\n",
    "\n",
    "\n",
    "X_train = torch.from_numpy(X_train).type(torch.Tensor)\n",
    "X_test = torch.from_numpy(X_test).type(torch.Tensor)\n",
    "y_train = torch.from_numpy(y_train).type(torch.Tensor).view(-1)\n",
    "y_test = torch.from_numpy(y_test).type(torch.Tensor).view(-1)\n",
    "\n",
    "X_train = X_train.view([X_train.shape[0], X_train.shape[1], 1])\n",
    "X_test = X_test.view([X_test.shape[0], X_test.shape[1], 1])\n"
   ]
  },
  {
   "cell_type": "markdown",
   "id": "38164964-47c4-4da7-ac39-3749291d9add",
   "metadata": {
    "tags": []
   },
   "source": [
    "#### Defining the LSTM model"
   ]
  },
  {
   "cell_type": "code",
   "execution_count": 14,
   "id": "622827aa-a875-4358-bb4b-7fb49088df73",
   "metadata": {
    "tags": []
   },
   "outputs": [],
   "source": [
    "class LSTM(nn.Module):\n",
    "    def __init__(self, input_dim, hidden_dim, num_layers, output_dim):\n",
    "        super(LSTM, self).__init__()\n",
    "        self.hidden_dim = hidden_dim\n",
    "        self.num_layers = num_layers\n",
    "        self.lstm = nn.LSTM(input_dim, hidden_dim, num_layers, batch_first=True)\n",
    "        self.fc = nn.Linear(hidden_dim, output_dim)\n",
    "\n",
    "    def forward(self, x):\n",
    "        h0 = torch.zeros(self.num_layers, x.size(0), self.hidden_dim).requires_grad_()\n",
    "        c0 = torch.zeros(self.num_layers, x.size(0), self.hidden_dim).requires_grad_()\n",
    "        out, (hn, cn) = self.lstm(x, (h0.detach(), c0.detach()))\n",
    "        out = self.fc(out[:, -1, :])\n",
    "\n",
    "        return out\n",
    "\n",
    "\n",
    "#model = LSTM(input_dim=1,\n",
    "#             hidden_dim=200,\n",
    " #            output_dim=1,\n",
    "#             num_layers=1)\n"
   ]
  },
  {
   "cell_type": "markdown",
   "id": "5650abb2-2350-436e-a914-95474ecd867c",
   "metadata": {
    "tags": []
   },
   "source": [
    "#### Hyperparameter tuning\n",
    "*In what follows, we conduct hyper-parameter tuning in order to determine the optimal number of neurons (hidden dimensions) and layers suitable for the LSTM. The below script executes the hyper-parameter tuning. We experiments from between 10 to 500 neurons. we explore with one layer."
   ]
  },
  {
   "cell_type": "code",
   "execution_count": 221,
   "id": "258fc558-c9e0-4787-8a38-aff5beeae493",
   "metadata": {
    "tags": []
   },
   "outputs": [
    {
     "name": "stderr",
     "output_type": "stream",
     "text": [
      "[I 2024-07-09 11:36:47,561] A new study created in memory with name: no-name-674f9bd3-5708-4f42-bd48-1e782e55b845\n",
      "[I 2024-07-09 11:36:50,789] Trial 0 finished with value: 0.07966136047616601 and parameters: {'hidden_dim': 299, 'num_layers': 1}. Best is trial 0 with value: 0.07966136047616601.\n",
      "[I 2024-07-09 11:36:53,667] Trial 1 finished with value: 0.09874091017991304 and parameters: {'hidden_dim': 296, 'num_layers': 1}. Best is trial 0 with value: 0.07966136047616601.\n",
      "[I 2024-07-09 11:36:54,755] Trial 2 finished with value: 0.0951239331625402 and parameters: {'hidden_dim': 43, 'num_layers': 1}. Best is trial 0 with value: 0.07966136047616601.\n",
      "[I 2024-07-09 11:36:55,799] Trial 3 finished with value: 0.1212000921368599 and parameters: {'hidden_dim': 71, 'num_layers': 1}. Best is trial 0 with value: 0.07966136047616601.\n",
      "[I 2024-07-09 11:36:57,608] Trial 4 finished with value: 0.11191112361848354 and parameters: {'hidden_dim': 201, 'num_layers': 1}. Best is trial 0 with value: 0.07966136047616601.\n",
      "[I 2024-07-09 11:37:01,231] Trial 5 finished with value: 0.10202805418521166 and parameters: {'hidden_dim': 377, 'num_layers': 1}. Best is trial 0 with value: 0.07966136047616601.\n",
      "[I 2024-07-09 11:37:02,551] Trial 6 finished with value: 0.08870102535001934 and parameters: {'hidden_dim': 124, 'num_layers': 1}. Best is trial 0 with value: 0.07966136047616601.\n",
      "[I 2024-07-09 11:37:04,622] Trial 7 finished with value: 0.09011347964406013 and parameters: {'hidden_dim': 207, 'num_layers': 1}. Best is trial 0 with value: 0.07966136047616601.\n",
      "[I 2024-07-09 11:37:06,119] Trial 8 finished with value: 0.13841994758695364 and parameters: {'hidden_dim': 163, 'num_layers': 1}. Best is trial 0 with value: 0.07966136047616601.\n",
      "[I 2024-07-09 11:37:08,282] Trial 9 finished with value: 0.1460650283843279 and parameters: {'hidden_dim': 241, 'num_layers': 1}. Best is trial 0 with value: 0.07966136047616601.\n",
      "[I 2024-07-09 11:37:13,333] Trial 10 finished with value: 0.09579602815210819 and parameters: {'hidden_dim': 489, 'num_layers': 1}. Best is trial 0 with value: 0.07966136047616601.\n",
      "[I 2024-07-09 11:37:16,674] Trial 11 finished with value: 0.100558569887653 and parameters: {'hidden_dim': 346, 'num_layers': 1}. Best is trial 0 with value: 0.07966136047616601.\n",
      "[I 2024-07-09 11:37:17,907] Trial 12 finished with value: 0.10177427809685469 and parameters: {'hidden_dim': 118, 'num_layers': 1}. Best is trial 0 with value: 0.07966136047616601.\n",
      "[I 2024-07-09 11:37:21,881] Trial 13 finished with value: 0.09548297501169145 and parameters: {'hidden_dim': 416, 'num_layers': 1}. Best is trial 0 with value: 0.07966136047616601.\n",
      "[I 2024-07-09 11:37:25,007] Trial 14 finished with value: 0.10959036042913795 and parameters: {'hidden_dim': 288, 'num_layers': 1}. Best is trial 0 with value: 0.07966136047616601.\n",
      "[I 2024-07-09 11:37:26,299] Trial 15 finished with value: 0.12758468464016914 and parameters: {'hidden_dim': 142, 'num_layers': 1}. Best is trial 0 with value: 0.07966136047616601.\n",
      "[I 2024-07-09 11:37:29,339] Trial 16 finished with value: 0.11215627938508987 and parameters: {'hidden_dim': 296, 'num_layers': 1}. Best is trial 0 with value: 0.07966136047616601.\n",
      "[I 2024-07-09 11:37:30,722] Trial 17 finished with value: 0.1376781016588211 and parameters: {'hidden_dim': 88, 'num_layers': 1}. Best is trial 0 with value: 0.07966136047616601.\n",
      "[I 2024-07-09 11:37:36,232] Trial 18 finished with value: 0.07286832231329754 and parameters: {'hidden_dim': 435, 'num_layers': 1}. Best is trial 18 with value: 0.07286832231329754.\n",
      "[I 2024-07-09 11:37:42,478] Trial 19 finished with value: 0.11991606652736664 and parameters: {'hidden_dim': 497, 'num_layers': 1}. Best is trial 18 with value: 0.07286832231329754.\n",
      "[I 2024-07-09 11:37:47,833] Trial 20 finished with value: 0.1268373690545559 and parameters: {'hidden_dim': 426, 'num_layers': 1}. Best is trial 18 with value: 0.07286832231329754.\n",
      "[I 2024-07-09 11:37:51,535] Trial 21 finished with value: 0.1271141692996025 and parameters: {'hidden_dim': 342, 'num_layers': 1}. Best is trial 18 with value: 0.07286832231329754.\n",
      "[I 2024-07-09 11:37:52,736] Trial 22 finished with value: 0.09926152881234884 and parameters: {'hidden_dim': 14, 'num_layers': 1}. Best is trial 18 with value: 0.07286832231329754.\n",
      "[I 2024-07-09 11:37:57,908] Trial 23 finished with value: 0.12728533847257495 and parameters: {'hidden_dim': 443, 'num_layers': 1}. Best is trial 18 with value: 0.07286832231329754.\n",
      "[I 2024-07-09 11:38:00,346] Trial 24 finished with value: 0.10793430521152914 and parameters: {'hidden_dim': 242, 'num_layers': 1}. Best is trial 18 with value: 0.07286832231329754.\n",
      "[I 2024-07-09 11:38:03,695] Trial 25 finished with value: 0.0934202834032476 and parameters: {'hidden_dim': 339, 'num_layers': 1}. Best is trial 18 with value: 0.07286832231329754.\n",
      "[I 2024-07-09 11:38:05,827] Trial 26 finished with value: 0.10183123499155045 and parameters: {'hidden_dim': 195, 'num_layers': 1}. Best is trial 18 with value: 0.07286832231329754.\n",
      "[I 2024-07-09 11:38:09,658] Trial 27 finished with value: 0.10450104624032974 and parameters: {'hidden_dim': 390, 'num_layers': 1}. Best is trial 18 with value: 0.07286832231329754.\n",
      "[I 2024-07-09 11:38:14,188] Trial 28 finished with value: 0.08869719179347157 and parameters: {'hidden_dim': 460, 'num_layers': 1}. Best is trial 18 with value: 0.07286832231329754.\n",
      "[I 2024-07-09 11:38:19,155] Trial 29 finished with value: 0.1297751236706972 and parameters: {'hidden_dim': 457, 'num_layers': 1}. Best is trial 18 with value: 0.07286832231329754.\n",
      "[I 2024-07-09 11:38:23,679] Trial 30 finished with value: 0.14515506103634834 and parameters: {'hidden_dim': 466, 'num_layers': 1}. Best is trial 18 with value: 0.07286832231329754.\n",
      "[I 2024-07-09 11:38:27,322] Trial 31 finished with value: 0.07211896224180236 and parameters: {'hidden_dim': 392, 'num_layers': 1}. Best is trial 31 with value: 0.07211896224180236.\n",
      "[I 2024-07-09 11:38:31,059] Trial 32 finished with value: 0.11500131711363792 and parameters: {'hidden_dim': 399, 'num_layers': 1}. Best is trial 31 with value: 0.07211896224180236.\n",
      "[I 2024-07-09 11:38:34,401] Trial 33 finished with value: 0.14908599108457565 and parameters: {'hidden_dim': 366, 'num_layers': 1}. Best is trial 31 with value: 0.07211896224180236.\n",
      "[I 2024-07-09 11:38:36,967] Trial 34 finished with value: 0.09654026245698333 and parameters: {'hidden_dim': 299, 'num_layers': 1}. Best is trial 31 with value: 0.07211896224180236.\n",
      "[I 2024-07-09 11:38:40,906] Trial 35 finished with value: 0.11814987566322088 and parameters: {'hidden_dim': 418, 'num_layers': 1}. Best is trial 31 with value: 0.07211896224180236.\n",
      "[I 2024-07-09 11:38:45,354] Trial 36 finished with value: 0.09322270448319614 and parameters: {'hidden_dim': 465, 'num_layers': 1}. Best is trial 31 with value: 0.07211896224180236.\n",
      "[I 2024-07-09 11:38:48,181] Trial 37 finished with value: 0.13886152021586895 and parameters: {'hidden_dim': 323, 'num_layers': 1}. Best is trial 31 with value: 0.07211896224180236.\n",
      "[I 2024-07-09 11:38:51,513] Trial 38 finished with value: 0.10457805637270212 and parameters: {'hidden_dim': 370, 'num_layers': 1}. Best is trial 31 with value: 0.07211896224180236.\n",
      "[I 2024-07-09 11:38:54,028] Trial 39 finished with value: 0.10756914597004652 and parameters: {'hidden_dim': 271, 'num_layers': 1}. Best is trial 31 with value: 0.07211896224180236.\n",
      "[I 2024-07-09 11:38:58,215] Trial 40 finished with value: 0.09486877114977688 and parameters: {'hidden_dim': 436, 'num_layers': 1}. Best is trial 31 with value: 0.07211896224180236.\n",
      "[I 2024-07-09 11:39:00,721] Trial 41 finished with value: 0.06375446158926934 and parameters: {'hidden_dim': 221, 'num_layers': 1}. Best is trial 41 with value: 0.06375446158926934.\n",
      "[I 2024-07-09 11:39:02,837] Trial 42 finished with value: 0.07957274711225182 and parameters: {'hidden_dim': 229, 'num_layers': 1}. Best is trial 41 with value: 0.06375446158926934.\n",
      "[I 2024-07-09 11:39:04,914] Trial 43 finished with value: 0.1393494512885809 and parameters: {'hidden_dim': 219, 'num_layers': 1}. Best is trial 41 with value: 0.06375446158926934.\n",
      "[I 2024-07-09 11:39:06,334] Trial 44 finished with value: 0.1058362815529108 and parameters: {'hidden_dim': 166, 'num_layers': 1}. Best is trial 41 with value: 0.06375446158926934.\n",
      "[I 2024-07-09 11:39:08,253] Trial 45 finished with value: 0.08341743610799313 and parameters: {'hidden_dim': 226, 'num_layers': 1}. Best is trial 41 with value: 0.06375446158926934.\n",
      "[I 2024-07-09 11:39:09,770] Trial 46 finished with value: 0.055140257987659425 and parameters: {'hidden_dim': 186, 'num_layers': 1}. Best is trial 46 with value: 0.055140257987659425.\n",
      "[I 2024-07-09 11:39:11,347] Trial 47 finished with value: 0.12119985278695822 and parameters: {'hidden_dim': 191, 'num_layers': 1}. Best is trial 46 with value: 0.055140257987659425.\n",
      "[I 2024-07-09 11:39:13,888] Trial 48 finished with value: 0.1293382439762354 and parameters: {'hidden_dim': 253, 'num_layers': 1}. Best is trial 46 with value: 0.055140257987659425.\n",
      "[I 2024-07-09 11:39:15,671] Trial 49 finished with value: 0.08954355120658875 and parameters: {'hidden_dim': 169, 'num_layers': 1}. Best is trial 46 with value: 0.055140257987659425.\n"
     ]
    },
    {
     "name": "stdout",
     "output_type": "stream",
     "text": [
      "Best hyperparameters:  {'hidden_dim': 186, 'num_layers': 1}\n"
     ]
    }
   ],
   "source": [
    "seed = 135\n",
    "torch.manual_seed(seed)\n",
    "\n",
    "\n",
    "def objective(trial):\n",
    "    # Define hyperparameters to tune\n",
    "    hidden_dim = trial.suggest_int('hidden_dim', 10, 500)\n",
    "    num_layers = trial.suggest_int('num_layers', 1, 1)\n",
    "    \n",
    "    # Create the model\n",
    "    model = LSTM(input_dim=1, hidden_dim=hidden_dim, num_layers=1, output_dim=1)\n",
    "    \n",
    "    # Define loss function and optimizer\n",
    "    criterion = nn.MSELoss()\n",
    "    optimizer = optim.Adam(model.parameters(), lr=0.001)\n",
    "    \n",
    "     \n",
    "    # Create data loaders\n",
    "    train_loader = DataLoader(TensorDataset(X_train, y_train), batch_size=8, shuffle=True)\n",
    "    val_loader = DataLoader(TensorDataset(X_test, y_test), batch_size=8, shuffle=False)\n",
    "    \n",
    "    # Training loop\n",
    "    n_epochs = 10\n",
    "    for epoch in range(n_epochs):\n",
    "        model.train()\n",
    "        for inputs, targets in train_loader:\n",
    "            optimizer.zero_grad()\n",
    "            outputs = model(inputs)\n",
    "            loss = criterion(outputs, targets)\n",
    "            loss.backward()\n",
    "            optimizer.step()\n",
    "    \n",
    "    # Validation loop\n",
    "    model.eval()\n",
    "    val_loss = 0\n",
    "    with torch.no_grad():\n",
    "        for inputs, targets in val_loader:\n",
    "            outputs = model(inputs)\n",
    "            loss = criterion(outputs, targets)\n",
    "            val_loss += loss.item()\n",
    "    \n",
    "    return val_loss / len(val_loader)\n",
    "\n",
    "# Create a study and optimize the objective function\n",
    "study = optuna.create_study(direction='minimize')\n",
    "study.optimize(objective, n_trials=50)\n",
    "\n",
    "# Print the best hyperparameters\n",
    "print('Best hyperparameters: ', study.best_params)"
   ]
  },
  {
   "cell_type": "markdown",
   "id": "df70a3af-c2e4-443b-9206-86c8f7b3c6cc",
   "metadata": {
    "tags": []
   },
   "source": [
    "*From the hyper-parameter tuning, the optimal parameters are shown above. The model is then trained using the optimal hidden layers (neurons) and number of layers*\n",
    "\n",
    "#### Model training"
   ]
  },
  {
   "cell_type": "code",
   "execution_count": 222,
   "id": "7bf6b117-0920-43d2-94d9-32e7c4b258a9",
   "metadata": {
    "tags": []
   },
   "outputs": [],
   "source": [
    "class LSTM(nn.Module):\n",
    "    def __init__(self, input_dim, hidden_dim, num_layers, output_dim):\n",
    "        super(LSTM, self).__init__()\n",
    "        self.hidden_dim = hidden_dim\n",
    "        self.num_layers = num_layers\n",
    "        self.lstm = nn.LSTM(input_dim, hidden_dim, num_layers, batch_first=True)\n",
    "        self.fc = nn.Linear(hidden_dim, output_dim)\n",
    "\n",
    "    def forward(self, x):\n",
    "        h0 = torch.zeros(self.num_layers, x.size(0), self.hidden_dim).requires_grad_()\n",
    "        c0 = torch.zeros(self.num_layers, x.size(0), self.hidden_dim).requires_grad_()\n",
    "        out, (hn, cn) = self.lstm(x, (h0.detach(), c0.detach()))\n",
    "        out = self.fc(out[:, -1, :])\n",
    "\n",
    "        return out\n",
    "\n",
    "\n",
    "model = LSTM(input_dim=1,\n",
    "             hidden_dim=study.best_params[\"hidden_dim\"],\n",
    "             output_dim=1,\n",
    "             num_layers=1)"
   ]
  },
  {
   "cell_type": "markdown",
   "id": "fc2725d9-6967-4737-951b-1335662a3e8f",
   "metadata": {
    "tags": []
   },
   "source": [
    "*The model is trained with about 120 epochs (a number of epoch values were experimented). An epoch refers to a complete pass through the entire training dataset during model training. Choosing a high number of epochs could lead to overffiting of the model to the trained data which usually implies poor fit to the test data. A small epoch value coud also lead to undefitting, hence, there should be a balance regarding the choice of the number of epochs. One can also conduct hyper-parameter tuning to ascertain the optimal epoch for the model. Alternatively the technique of early-stopping can also be applied here. This is a regularization technique used in machine learning to prevent overfitting during training. Early stopping halts training when a significant deterioration (or no significant improvement) in generalization performance is observed over a predefined period. The training algorithm then returns the model parameters with the best generalization performance up to that point.*"
   ]
  },
  {
   "cell_type": "code",
   "execution_count": 227,
   "id": "ab3b0eb0-08cf-4ddd-b075-9581b1d7c6d6",
   "metadata": {
    "tags": []
   },
   "outputs": [
    {
     "name": "stdout",
     "output_type": "stream",
     "text": [
      "Epoch: 0, Loss: 0.005954654887318611\n",
      "Epoch: 10, Loss: 0.012981859967112541\n",
      "Epoch: 20, Loss: 0.006521963514387608\n",
      "Epoch: 30, Loss: 0.005760909523814917\n",
      "Epoch: 40, Loss: 0.0056004696525633335\n",
      "Epoch: 50, Loss: 0.0051474436186254025\n",
      "Epoch: 60, Loss: 0.004933299962431192\n",
      "Epoch: 70, Loss: 0.004795261658728123\n",
      "Epoch: 80, Loss: 0.004693650174885988\n",
      "Epoch: 90, Loss: 0.0046195643953979015\n",
      "Epoch: 100, Loss: 0.004552124068140984\n",
      "Epoch: 110, Loss: 0.004496040288358927\n"
     ]
    }
   ],
   "source": [
    "\n",
    "\n",
    "\n",
    "loss_fn = nn.MSELoss()\n",
    "optimizer = torch.optim.Adam(model.parameters(), lr=0.001)\n",
    "\n",
    "epochs = 120\n",
    "\n",
    "for epoch in range(epochs):\n",
    "    model.train()\n",
    "    optimizer.zero_grad()\n",
    "\n",
    "    out = model(X_train).reshape(-1, )\n",
    "    loss = loss_fn(out, y_train)\n",
    "    loss.backward()\n",
    "    optimizer.step()\n",
    "\n",
    "    if epoch % 10 == 0:\n",
    "        print(f\"Epoch: {epoch}, Loss: {loss.item()}\")\n",
    "        \n",
    "\n",
    "\n"
   ]
  },
  {
   "cell_type": "markdown",
   "id": "9760d223-f058-4eb1-9c1f-de6510b836ac",
   "metadata": {},
   "source": [
    "#### Model prediction and Evaluation"
   ]
  },
  {
   "cell_type": "markdown",
   "id": "909f1dab-e7f5-47b4-97eb-6d86220402ba",
   "metadata": {},
   "source": [
    "*After the model is trained, the test data (for target variable) is compared against the prediction after which model evaluation (via Mean squared error) is computed.* "
   ]
  },
  {
   "cell_type": "code",
   "execution_count": 228,
   "id": "7a46c7ef-726c-48b6-a371-b105e05187b0",
   "metadata": {
    "tags": []
   },
   "outputs": [
    {
     "name": "stdout",
     "output_type": "stream",
     "text": [
      "Test Loss (MSE): 0.13092023134231567\n"
     ]
    }
   ],
   "source": [
    "model.eval()\n",
    "y_pred = model(X_test).reshape(-1, )\n",
    "test_loss = loss_fn(y_pred, y_test)\n",
    "print(f\"Test Loss (MSE): {test_loss.item()}\")"
   ]
  },
  {
   "cell_type": "markdown",
   "id": "b46615b6-8c57-4ba0-a00a-f3f0e7237fc9",
   "metadata": {
    "tags": []
   },
   "source": [
    "*The test loss (MSE for test data) is pretty smaller as compared to the other models (ARIMA and exponential smoothing), indicating superiority of the LSTM model.*\n",
    "\n",
    "*Next, we convert the predicted values back to their actual values - remember data was scaled for model training purposes, so it is important to convert the values back to their original values.*"
   ]
  },
  {
   "cell_type": "code",
   "execution_count": 238,
   "id": "23672b01-f0a3-4094-b3e3-9c56405a6254",
   "metadata": {
    "tags": []
   },
   "outputs": [
    {
     "name": "stdout",
     "output_type": "stream",
     "text": [
      "[5.6922345 5.905414  5.723413  5.692163  4.127898  2.8968487 2.12558\n",
      " 3.2574878 3.0222383 2.6364872 2.2183156 2.2082841]\n",
      "[6.8        6.50000001 6.40000001 4.3        2.99999995 2.30000007\n",
      " 3.79999992 3.10000004 2.70000006 2.30000007 2.39999998 2.79999996]\n"
     ]
    }
   ],
   "source": [
    "# Evaluate the model\n",
    "model.eval()\n",
    "with torch.no_grad():\n",
    "    y_pred = model(X_test).reshape(-1,).detach().numpy()\n",
    "    \n",
    "\n",
    "\n",
    "# Reshape y_pred to match the scaler's expected input shape (e.g., (-1, 1))\n",
    "y_pred = y_pred.reshape(-1, 1)\n",
    "y_test = y_test.reshape(-1, 1)\n",
    "\n",
    "# Inverse transform the predictions\n",
    "y_pred_original = scaler.inverse_transform(y_pred).flatten()\n",
    "print(y_pred_original)\n",
    "\n",
    "y_original = scaler.inverse_transform(y_test).flatten()\n",
    "print(y_original)\n",
    "df_test[\"Y_Pred\"] = y_pred_original\n"
   ]
  },
  {
   "cell_type": "markdown",
   "id": "e57aaa94-99aa-4822-8230-e75d31de42fa",
   "metadata": {
    "tags": []
   },
   "source": []
  },
  {
   "cell_type": "markdown",
   "id": "6b153a31-6c40-4c1f-be2c-bf8b2772e83f",
   "metadata": {},
   "source": [
    "#### Actual HICP Inflation (test data) and Prediction (LSTM)\n",
    "*The plot below compares the actual HICP inflation (test data) to LSTM prediction. It can be noticed that there is still some slight deviation between the two series especially at the beginning of the series. Overall the model prediction is not too far off from the actual values. Comparing the LSTM model to our previous Exponential smoothing and ARIMA models, the LSTM models has lower MSE and hence better predictive power as compared to the other models*"
   ]
  },
  {
   "cell_type": "code",
   "execution_count": 230,
   "id": "74a63576-3c7a-49c1-a2d7-44619d64011a",
   "metadata": {
    "tags": []
   },
   "outputs": [
    {
     "data": {
      "image/png": "[encoded data removed]",
      "text/plain": [
       "<Figure size 1200x500 with 1 Axes>"
      ]
     },
     "metadata": {},
     "output_type": "display_data"
    }
   ],
   "source": [
    "df_test[\"var1(t)\"].plot(legend=True, figsize=(12,5), label=\"HICP Inflation\")\n",
    "df_test[\"Y_Pred\"].plot(legend=True, label=\"LSTM Prediction\");"
   ]
  },
  {
   "cell_type": "markdown",
   "id": "af19617a-927d-4270-a7fb-c49ad47d6e38",
   "metadata": {},
   "source": [
    "### Forecasting into the future\n",
    "*To forecast into the future, we retrain the model on the full dataset after which prediction is done 12 months into the future. Note that we do not have any test dataset to evaluate the model since we are predicting into the unknown future.*"
   ]
  },
  {
   "cell_type": "code",
   "execution_count": 232,
   "id": "4d5320e6-6428-4265-985f-08bd581cd92e",
   "metadata": {
    "tags": []
   },
   "outputs": [],
   "source": [
    "# Select the target column\n",
    "target_column = 'var1(t)'\n",
    "\n",
    "data_t = scaler.fit_transform(data[[target_column]])\n",
    "\n",
    "\n",
    "\n",
    "# Prepare the training and testing datasets\n",
    "F_X_train = data.drop(columns=[target_column]).values\n",
    "F_y_train = data_t\n",
    "\n",
    "\n",
    "#F_X_train, F_y_train = data_t[:, :-1],data_t[:, :-1]\n",
    "\n",
    "F_X_train = torch.from_numpy(F_X_train).type(torch.Tensor)\n",
    "F_y_train = torch.from_numpy(F_y_train).type(torch.Tensor)\n",
    "\n",
    "F_X_train = F_X_train.view([F_X_train.shape[0], F_X_train.shape[1],1])\n",
    "F_y_train = F_y_train.view([F_y_train.shape[0], F_y_train.shape[1],1])\n",
    "\n",
    "\n",
    "\n",
    "\n",
    "\n"
   ]
  },
  {
   "cell_type": "code",
   "execution_count": 233,
   "id": "0c4d795e-0bed-46bd-ba35-59ad54c681e7",
   "metadata": {
    "tags": []
   },
   "outputs": [],
   "source": [
    "class LSTM(nn.Module):\n",
    "    def __init__(self, input_dim, hidden_dim, num_layers, output_dim):\n",
    "        super(LSTM, self).__init__()\n",
    "        self.hidden_dim = hidden_dim\n",
    "        self.num_layers = num_layers\n",
    "        self.lstm = nn.LSTM(input_dim, hidden_dim, num_layers, batch_first=True)\n",
    "        self.fc = nn.Linear(hidden_dim, output_dim)\n",
    "\n",
    "    def forward(self, x):\n",
    "        h0 = torch.zeros(self.num_layers, x.size(0), self.hidden_dim).requires_grad_()\n",
    "        c0 = torch.zeros(self.num_layers, x.size(0), self.hidden_dim).requires_grad_()\n",
    "        out, (hn, cn) = self.lstm(x, (h0.detach(), c0.detach()))\n",
    "        out = self.fc(out[:, -1, :])\n",
    "\n",
    "        return out\n",
    "\n",
    "\n",
    "model_f = LSTM(input_dim=1,\n",
    "             hidden_dim=200,\n",
    "             output_dim=1,\n",
    "             num_layers=1)"
   ]
  },
  {
   "cell_type": "code",
   "execution_count": 234,
   "id": "3fb31fc3-8b8e-4e89-ac9d-bcaf14077dd8",
   "metadata": {
    "tags": []
   },
   "outputs": [],
   "source": [
    "\n",
    "optimizer = torch.optim.Adam(model_f.parameters(), lr=0.001)\n",
    "\n",
    "epochs = 120\n",
    "\n",
    "for epoch in range(epochs):\n",
    "    model_f.train()\n",
    "    optimizer.zero_grad()\n",
    "\n",
    "    out = model_f(F_X_train).reshape(-1, )\n",
    "    loss = loss_fn(out,F_y_train)\n",
    "    loss.backward()\n",
    "    optimizer.step()\n",
    "\n"
   ]
  },
  {
   "cell_type": "code",
   "execution_count": 235,
   "id": "b463ac93-5219-4028-ab4d-31eef9559561",
   "metadata": {
    "tags": []
   },
   "outputs": [],
   "source": [
    "# Function to predict the next value\n",
    "def predict_next(model_f, input_seq):\n",
    "    model_f.eval()\n",
    "    with torch.no_grad():\n",
    "        input_seq = input_seq.unsqueeze(0)  # Add batch dimension\n",
    "        pred = model_f(input_seq)\n",
    "    return pred.squeeze(0).item()  # Remove batch dimension and convert to scalar\n",
    "\n",
    "# Predicting 12 months into the future\n",
    "current_seq = F_X_train[-1].clone()  # Start with the last sequence in the test set\n",
    "\n",
    "future_predictions = []\n",
    "n_future_steps = 12\n",
    "\n",
    "for _ in range(n_future_steps):\n",
    "    next_pred = predict_next(model_f, current_seq)\n",
    "    future_predictions.append(next_pred)\n",
    "    \n",
    "    # Update the current sequence by appending the predicted value and removing the oldest value\n",
    "    current_seq = torch.cat((current_seq[1:], torch.tensor([[next_pred]])), dim=0)\n",
    "\n",
    "\n",
    "    "
   ]
  },
  {
   "cell_type": "code",
   "execution_count": 236,
   "id": "35476118-bb82-4cb5-8441-fbfb1f8a75de",
   "metadata": {
    "tags": []
   },
   "outputs": [
    {
     "name": "stdout",
     "output_type": "stream",
     "text": [
      "[1.96068588 2.05456262 2.12531952 2.14350205 2.12418059 2.08896508\n",
      " 2.0518962  2.01975107 1.99462793 1.97722179 1.96601359 1.95951799]\n"
     ]
    }
   ],
   "source": [
    "# Reshape y_pred to match the scaler's expected input shape (e.g., (-1, 1))\n",
    "future_pred = current_seq.reshape(-1, 1)\n",
    "\n",
    "# Inverse transform the predictions\n",
    "future_pred_t = scaler.inverse_transform(future_pred).flatten()\n",
    "print(future_pred_t)\n"
   ]
  },
  {
   "cell_type": "markdown",
   "id": "05bc6989-fe08-4da9-9545-d7377f1d712a",
   "metadata": {
    "tags": []
   },
   "source": [
    "##### 12 months predicted values (into the future)"
   ]
  },
  {
   "cell_type": "code",
   "execution_count": 237,
   "id": "e51d8b35-38ed-4168-9396-0f3284355905",
   "metadata": {
    "tags": []
   },
   "outputs": [
    {
     "data": {
      "text/html": [
       "<div>\n",
       "<style scoped>\n",
       "    .dataframe tbody tr th:only-of-type {\n",
       "        vertical-align: middle;\n",
       "    }\n",
       "\n",
       "    .dataframe tbody tr th {\n",
       "        vertical-align: top;\n",
       "    }\n",
       "\n",
       "    .dataframe thead th {\n",
       "        text-align: right;\n",
       "    }\n",
       "</style>\n",
       "<table border=\"1\" class=\"dataframe\">\n",
       "  <thead>\n",
       "    <tr style=\"text-align: right;\">\n",
       "      <th></th>\n",
       "      <th>Future LSTM Prediction</th>\n",
       "    </tr>\n",
       "  </thead>\n",
       "  <tbody>\n",
       "    <tr>\n",
       "      <th>2024-06-30</th>\n",
       "      <td>1.960686</td>\n",
       "    </tr>\n",
       "    <tr>\n",
       "      <th>2024-07-31</th>\n",
       "      <td>2.054563</td>\n",
       "    </tr>\n",
       "    <tr>\n",
       "      <th>2024-08-31</th>\n",
       "      <td>2.125320</td>\n",
       "    </tr>\n",
       "    <tr>\n",
       "      <th>2024-09-30</th>\n",
       "      <td>2.143502</td>\n",
       "    </tr>\n",
       "    <tr>\n",
       "      <th>2024-10-31</th>\n",
       "      <td>2.124181</td>\n",
       "    </tr>\n",
       "    <tr>\n",
       "      <th>2024-11-30</th>\n",
       "      <td>2.088965</td>\n",
       "    </tr>\n",
       "    <tr>\n",
       "      <th>2024-12-31</th>\n",
       "      <td>2.051896</td>\n",
       "    </tr>\n",
       "    <tr>\n",
       "      <th>2025-01-31</th>\n",
       "      <td>2.019751</td>\n",
       "    </tr>\n",
       "    <tr>\n",
       "      <th>2025-02-28</th>\n",
       "      <td>1.994628</td>\n",
       "    </tr>\n",
       "    <tr>\n",
       "      <th>2025-03-31</th>\n",
       "      <td>1.977222</td>\n",
       "    </tr>\n",
       "    <tr>\n",
       "      <th>2025-04-30</th>\n",
       "      <td>1.966014</td>\n",
       "    </tr>\n",
       "    <tr>\n",
       "      <th>2025-05-31</th>\n",
       "      <td>1.959518</td>\n",
       "    </tr>\n",
       "  </tbody>\n",
       "</table>\n",
       "</div>"
      ],
      "text/plain": [
       "            Future LSTM Prediction\n",
       "2024-06-30                1.960686\n",
       "2024-07-31                2.054563\n",
       "2024-08-31                2.125320\n",
       "2024-09-30                2.143502\n",
       "2024-10-31                2.124181\n",
       "2024-11-30                2.088965\n",
       "2024-12-31                2.051896\n",
       "2025-01-31                2.019751\n",
       "2025-02-28                1.994628\n",
       "2025-03-31                1.977222\n",
       "2025-04-30                1.966014\n",
       "2025-05-31                1.959518"
      ]
     },
     "execution_count": 237,
     "metadata": {},
     "output_type": "execute_result"
    }
   ],
   "source": [
    "start_date = pd.to_datetime('2024-06-30')\n",
    "end_date = start_date + pd.DateOffset(months=12)  \n",
    "date_index = pd.date_range(start=start_date, end=end_date, freq='MS') - pd.offsets.MonthEnd(1)\n",
    "\n",
    "Data_forecast = pd.DataFrame({'Future LSTM Prediction':future_pred_t})\n",
    "Data_forecast.index = date_index\n",
    "Data_forecast"
   ]
  }
 ],
 "metadata": {
  "kernelspec": {
   "display_name": "Python 3 (ipykernel)",
   "language": "python",
   "name": "python3"
  },
  "language_info": {
   "codemirror_mode": {
    "name": "ipython",
    "version": 3
   },
   "file_extension": ".py",
   "mimetype": "text/x-python",
   "name": "python",
   "nbconvert_exporter": "python",
   "pygments_lexer": "ipython3",
   "version": "3.11.5"
  }
 },
 "nbformat": 4,
 "nbformat_minor": 5
}
