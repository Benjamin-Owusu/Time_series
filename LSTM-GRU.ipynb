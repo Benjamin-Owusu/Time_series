{
 "cells": [
  {
   "cell_type": "markdown",
   "id": "4e21339e-de35-4d88-87a4-202a5ff4682b",
   "metadata": {},
   "source": [
    "### Recurrent Neural network"
   ]
  },
  {
   "cell_type": "markdown",
   "id": "c6f7bc79-a199-4ee0-8669-2c7939373bd7",
   "metadata": {},
   "source": [
    "*In this exercise, we use Recurrent neural network (RNN) to predict German HICP inflation for similar dataset ('HICP_Ger.csv'), once again employing a univariate forecasting technique.*\n",
    "\n",
    "*RNNs are a type of neural networks used mainly for sequencial data such as time series forecasting and natural language processing.\n",
    "RNNS suffer from the so-called vanishing gradient problem which arises during the process of model training when the gradients shrinks and becomes smaller during backwards propagations. This results in difficulties for the model to learn from very distant sequencial information* \n",
    "\n",
    "\n",
    "#### Long Short Term Memory\n",
    "*LSTM overcome the vanishing gradient problem by employing some kind of comlex internal structure referred to as cells. These cells uses so-called gates (forget gates, input gates and output gates) to regulate the flow of information to and fro the cells, and this helps to control the long-terms information flow thereby mitigating/managing the vanishing gradient problem*"
   ]
  },
  {
   "cell_type": "markdown",
   "id": "6a5dacfa-5204-4baf-9515-5b5cf697e7a5",
   "metadata": {},
   "source": [
    "*We begin by importing the appropriate libraries below.*"
   ]
  },
  {
   "cell_type": "code",
   "execution_count": 3,
   "id": "866592af-406a-4356-8c8e-049a0f33094a",
   "metadata": {
    "tags": []
   },
   "outputs": [],
   "source": [
    "import numpy as np\n",
    "import pandas as pd\n",
    "import matplotlib.pyplot as plt\n",
    "import torch\n",
    "import torch.nn as nn\n",
    "from sklearn.preprocessing import MinMaxScaler \n",
    "\n",
    "import optuna\n",
    "import torch.optim as optim # Optunais a powerful hyperparameter optimization framework.\n",
    "from torch.utils.data import DataLoader, TensorDataset\n",
    "from copy import deepcopy as dc\n",
    "\n",
    "import warnings\n",
    "warnings.filterwarnings(\"ignore\")"
   ]
  },
  {
   "cell_type": "markdown",
   "id": "45947558-3fb3-4451-9024-844da91e9546",
   "metadata": {},
   "source": [
    "*Next, we import and clean the data, similar to scripts used for the ARIMA models*"
   ]
  },
  {
   "cell_type": "code",
   "execution_count": 4,
   "id": "8d66881c-cbee-4643-9b28-a89dc662b81a",
   "metadata": {
    "tags": []
   },
   "outputs": [
    {
     "data": {
      "text/html": [
       "<div>\n",
       "<style scoped>\n",
       "    .dataframe tbody tr th:only-of-type {\n",
       "        vertical-align: middle;\n",
       "    }\n",
       "\n",
       "    .dataframe tbody tr th {\n",
       "        vertical-align: top;\n",
       "    }\n",
       "\n",
       "    .dataframe thead th {\n",
       "        text-align: right;\n",
       "    }\n",
       "</style>\n",
       "<table border=\"1\" class=\"dataframe\">\n",
       "  <thead>\n",
       "    <tr style=\"text-align: right;\">\n",
       "      <th></th>\n",
       "      <th>\"DATE</th>\n",
       "      <th>\"\"TIME</th>\n",
       "      <th>PERIOD\"\"</th>\n",
       "      <th>\"\"HICP</th>\n",
       "      <th>\"\"\"</th>\n",
       "    </tr>\n",
       "  </thead>\n",
       "  <tbody>\n",
       "    <tr>\n",
       "      <th>0</th>\n",
       "      <td>\"1996-01-31</td>\n",
       "      <td>\"\"1996Jan\"\"</td>\n",
       "      <td>\"\"0.5\"\"\"</td>\n",
       "      <td>NaN</td>\n",
       "      <td>NaN</td>\n",
       "    </tr>\n",
       "    <tr>\n",
       "      <th>1</th>\n",
       "      <td>\"1996-02-29</td>\n",
       "      <td>\"\"1996Feb\"\"</td>\n",
       "      <td>\"\"0.7\"\"\"</td>\n",
       "      <td>NaN</td>\n",
       "      <td>NaN</td>\n",
       "    </tr>\n",
       "    <tr>\n",
       "      <th>2</th>\n",
       "      <td>\"1996-03-31</td>\n",
       "      <td>\"\"1996Mar\"\"</td>\n",
       "      <td>\"\"0.8\"\"\"</td>\n",
       "      <td>NaN</td>\n",
       "      <td>NaN</td>\n",
       "    </tr>\n",
       "    <tr>\n",
       "      <th>3</th>\n",
       "      <td>\"1996-04-30</td>\n",
       "      <td>\"\"1996Apr\"\"</td>\n",
       "      <td>\"\"0.5\"\"\"</td>\n",
       "      <td>NaN</td>\n",
       "      <td>NaN</td>\n",
       "    </tr>\n",
       "    <tr>\n",
       "      <th>4</th>\n",
       "      <td>\"1996-05-31</td>\n",
       "      <td>\"\"1996May\"\"</td>\n",
       "      <td>\"\"0.7\"\"\"</td>\n",
       "      <td>NaN</td>\n",
       "      <td>NaN</td>\n",
       "    </tr>\n",
       "  </tbody>\n",
       "</table>\n",
       "</div>"
      ],
      "text/plain": [
       "         \"DATE       \"\"TIME  PERIOD\"\"  \"\"HICP  \"\"\"\n",
       "0  \"1996-01-31  \"\"1996Jan\"\"  \"\"0.5\"\"\"     NaN  NaN\n",
       "1  \"1996-02-29  \"\"1996Feb\"\"  \"\"0.7\"\"\"     NaN  NaN\n",
       "2  \"1996-03-31  \"\"1996Mar\"\"  \"\"0.8\"\"\"     NaN  NaN\n",
       "3  \"1996-04-30  \"\"1996Apr\"\"  \"\"0.5\"\"\"     NaN  NaN\n",
       "4  \"1996-05-31  \"\"1996May\"\"  \"\"0.7\"\"\"     NaN  NaN"
      ]
     },
     "execution_count": 4,
     "metadata": {},
     "output_type": "execute_result"
    }
   ],
   "source": [
    "df = pd.read_csv('HICP_Ger.csv', sep='\\\\s+|,', engine=\"python\")\n",
    "df.head()"
   ]
  },
  {
   "cell_type": "code",
   "execution_count": 5,
   "id": "1e7fa793-1619-48a4-a882-984912dc8ae1",
   "metadata": {
    "tags": []
   },
   "outputs": [],
   "source": [
    "columns_to_drop = [1, 3, 4]\n",
    "df.drop(df.columns[columns_to_drop], axis=1, inplace=True)\n",
    "df.columns = df.columns.str.replace('\"', '')\n",
    "df.rename(columns = {\"PERIOD\":\"HICP\"}, inplace = True)\n",
    "        "
   ]
  },
  {
   "cell_type": "code",
   "execution_count": 6,
   "id": "97059c7a-ce82-4be4-810e-01670fbdfa94",
   "metadata": {
    "tags": []
   },
   "outputs": [
    {
     "data": {
      "text/html": [
       "<div>\n",
       "<style scoped>\n",
       "    .dataframe tbody tr th:only-of-type {\n",
       "        vertical-align: middle;\n",
       "    }\n",
       "\n",
       "    .dataframe tbody tr th {\n",
       "        vertical-align: top;\n",
       "    }\n",
       "\n",
       "    .dataframe thead th {\n",
       "        text-align: right;\n",
       "    }\n",
       "</style>\n",
       "<table border=\"1\" class=\"dataframe\">\n",
       "  <thead>\n",
       "    <tr style=\"text-align: right;\">\n",
       "      <th></th>\n",
       "      <th>DATE</th>\n",
       "      <th>HICP</th>\n",
       "    </tr>\n",
       "  </thead>\n",
       "  <tbody>\n",
       "    <tr>\n",
       "      <th>0</th>\n",
       "      <td>1996-01-31</td>\n",
       "      <td>0.5</td>\n",
       "    </tr>\n",
       "    <tr>\n",
       "      <th>1</th>\n",
       "      <td>1996-02-29</td>\n",
       "      <td>0.7</td>\n",
       "    </tr>\n",
       "    <tr>\n",
       "      <th>2</th>\n",
       "      <td>1996-03-31</td>\n",
       "      <td>0.8</td>\n",
       "    </tr>\n",
       "    <tr>\n",
       "      <th>3</th>\n",
       "      <td>1996-04-30</td>\n",
       "      <td>0.5</td>\n",
       "    </tr>\n",
       "    <tr>\n",
       "      <th>4</th>\n",
       "      <td>1996-05-31</td>\n",
       "      <td>0.7</td>\n",
       "    </tr>\n",
       "  </tbody>\n",
       "</table>\n",
       "</div>"
      ],
      "text/plain": [
       "         DATE HICP\n",
       "0  1996-01-31  0.5\n",
       "1  1996-02-29  0.7\n",
       "2  1996-03-31  0.8\n",
       "3  1996-04-30  0.5\n",
       "4  1996-05-31  0.7"
      ]
     },
     "execution_count": 6,
     "metadata": {},
     "output_type": "execute_result"
    }
   ],
   "source": [
    "for cols in df:\n",
    "    df[cols] = df[cols].str.strip('\"')\n",
    "\n",
    "df.head()"
   ]
  },
  {
   "cell_type": "code",
   "execution_count": 7,
   "id": "febe7347-f5d0-438f-8fd9-2a52c77c141c",
   "metadata": {
    "tags": []
   },
   "outputs": [],
   "source": [
    "df['HICP'] = pd.to_numeric(df['HICP'])"
   ]
  },
  {
   "cell_type": "code",
   "execution_count": 8,
   "id": "e4035e66-c997-4b41-be82-e70344bc341b",
   "metadata": {
    "tags": []
   },
   "outputs": [
    {
     "data": {
      "text/plain": [
       "DatetimeIndex(['1996-01-31', '1996-02-29', '1996-03-31', '1996-04-30',\n",
       "               '1996-05-31', '1996-06-30', '1996-07-31', '1996-08-31',\n",
       "               '1996-09-30', '1996-10-31',\n",
       "               ...\n",
       "               '2023-08-31', '2023-09-30', '2023-10-31', '2023-11-30',\n",
       "               '2023-12-31', '2024-01-31', '2024-02-29', '2024-03-31',\n",
       "               '2024-04-30', '2024-05-31'],\n",
       "              dtype='datetime64[ns]', name='DATE', length=341, freq='M')"
      ]
     },
     "execution_count": 8,
     "metadata": {},
     "output_type": "execute_result"
    }
   ],
   "source": [
    "df.set_index(\"DATE\", inplace = True)\n",
    "df.index = pd.to_datetime(df.index)\n",
    "df.index.freq = \"M\"\n",
    "df.index"
   ]
  },
  {
   "cell_type": "markdown",
   "id": "f09f945b-1718-469b-ba0d-95cc3d2dc0d9",
   "metadata": {},
   "source": [
    "*PLotting of the HICP inflation series*"
   ]
  },
  {
   "cell_type": "code",
   "execution_count": 9,
   "id": "4ba67102-093e-4098-9aaf-e6cffeb69b9a",
   "metadata": {
    "tags": []
   },
   "outputs": [
    {
     "data": {
      "image/png": "[encoded data removed]",
      "text/plain": [
       "<Figure size 640x480 with 1 Axes>"
      ]
     },
     "metadata": {},
     "output_type": "display_data"
    }
   ],
   "source": [
    "df['HICP'].plot();"
   ]
  },
  {
   "cell_type": "markdown",
   "id": "0228dc6f-2793-4a83-9e00-f9ca2ae39f9b",
   "metadata": {
    "tags": []
   },
   "source": [
    "#### Preparing the data\n",
    "*In in order ensure that the data is suitable for supervised learning, we present the data in a form so that up to 12 lags of the series is used to predict current values of inflation. That implies transforming the dataset by creating lagged versions of the original series via sliding windows. Remember in a supervised learning setting, the idea is to train a model to learn the relationship that exist between the input variable (features) and the target variable.*"
   ]
  },
  {
   "cell_type": "code",
   "execution_count": 10,
   "id": "a7b82325-e9e1-433b-969e-47fb8735b037",
   "metadata": {
    "tags": []
   },
   "outputs": [],
   "source": [
    "def series_to_supervised(data, n_in=1, n_out=1, dropnan=True):\n",
    "    n_vars = 1 if len(data.shape) == 1 else data.shape[1]\n",
    "    df = pd.DataFrame(data)\n",
    "    cols, names = list(), list()\n",
    "    # input sequence (t-n, ... t-1)\n",
    "    for i in range(n_in, 0, -1):\n",
    "        cols.append(df.shift(i))\n",
    "        names += [(\"var%d(t-%d)\" % (j + 1, i)) for j in range(n_vars)]\n",
    "    # forecast sequence (t, t+1, ... t+n)\n",
    "    for i in range(0, n_out):\n",
    "        cols.append(df.shift(-i))\n",
    "        if i == 0:\n",
    "            names += [(\"var%d(t)\" % (j + 1)) for j in range(n_vars)]\n",
    "        else:\n",
    "            names += [(\"var%d(t+%d)\" % (j + 1, i)) for j in range(n_vars)]\n",
    "    # put it all together\n",
    "    agg = pd.concat(cols, axis=1)\n",
    "    agg.columns = names\n",
    "    # drop rows with NaN values\n",
    "    if dropnan:\n",
    "        agg.dropna(inplace=True)\n",
    "    return agg"
   ]
  },
  {
   "cell_type": "code",
   "execution_count": 11,
   "id": "3dfc5caf-cdf6-472b-bbc7-74081b9a3851",
   "metadata": {
    "tags": []
   },
   "outputs": [
    {
     "data": {
      "text/html": [
       "<div>\n",
       "<style scoped>\n",
       "    .dataframe tbody tr th:only-of-type {\n",
       "        vertical-align: middle;\n",
       "    }\n",
       "\n",
       "    .dataframe tbody tr th {\n",
       "        vertical-align: top;\n",
       "    }\n",
       "\n",
       "    .dataframe thead th {\n",
       "        text-align: right;\n",
       "    }\n",
       "</style>\n",
       "<table border=\"1\" class=\"dataframe\">\n",
       "  <thead>\n",
       "    <tr style=\"text-align: right;\">\n",
       "      <th></th>\n",
       "      <th>var1(t-12)</th>\n",
       "      <th>var1(t-11)</th>\n",
       "      <th>var1(t-10)</th>\n",
       "      <th>var1(t-9)</th>\n",
       "      <th>var1(t-8)</th>\n",
       "      <th>var1(t-7)</th>\n",
       "      <th>var1(t-6)</th>\n",
       "      <th>var1(t-5)</th>\n",
       "      <th>var1(t-4)</th>\n",
       "      <th>var1(t-3)</th>\n",
       "      <th>var1(t-2)</th>\n",
       "      <th>var1(t-1)</th>\n",
       "      <th>var1(t)</th>\n",
       "    </tr>\n",
       "    <tr>\n",
       "      <th>DATE</th>\n",
       "      <th></th>\n",
       "      <th></th>\n",
       "      <th></th>\n",
       "      <th></th>\n",
       "      <th></th>\n",
       "      <th></th>\n",
       "      <th></th>\n",
       "      <th></th>\n",
       "      <th></th>\n",
       "      <th></th>\n",
       "      <th></th>\n",
       "      <th></th>\n",
       "      <th></th>\n",
       "    </tr>\n",
       "  </thead>\n",
       "  <tbody>\n",
       "    <tr>\n",
       "      <th>1997-01-31</th>\n",
       "      <td>0.5</td>\n",
       "      <td>0.7</td>\n",
       "      <td>0.8</td>\n",
       "      <td>0.5</td>\n",
       "      <td>0.7</td>\n",
       "      <td>0.5</td>\n",
       "      <td>0.7</td>\n",
       "      <td>0.5</td>\n",
       "      <td>0.7</td>\n",
       "      <td>0.8</td>\n",
       "      <td>0.7</td>\n",
       "      <td>0.7</td>\n",
       "      <td>1.9</td>\n",
       "    </tr>\n",
       "    <tr>\n",
       "      <th>1997-02-28</th>\n",
       "      <td>0.7</td>\n",
       "      <td>0.8</td>\n",
       "      <td>0.5</td>\n",
       "      <td>0.7</td>\n",
       "      <td>0.5</td>\n",
       "      <td>0.7</td>\n",
       "      <td>0.5</td>\n",
       "      <td>0.7</td>\n",
       "      <td>0.8</td>\n",
       "      <td>0.7</td>\n",
       "      <td>0.7</td>\n",
       "      <td>1.9</td>\n",
       "      <td>1.6</td>\n",
       "    </tr>\n",
       "    <tr>\n",
       "      <th>1997-03-31</th>\n",
       "      <td>0.8</td>\n",
       "      <td>0.5</td>\n",
       "      <td>0.7</td>\n",
       "      <td>0.5</td>\n",
       "      <td>0.7</td>\n",
       "      <td>0.5</td>\n",
       "      <td>0.7</td>\n",
       "      <td>0.8</td>\n",
       "      <td>0.7</td>\n",
       "      <td>0.7</td>\n",
       "      <td>1.9</td>\n",
       "      <td>1.6</td>\n",
       "      <td>1.3</td>\n",
       "    </tr>\n",
       "    <tr>\n",
       "      <th>1997-04-30</th>\n",
       "      <td>0.5</td>\n",
       "      <td>0.7</td>\n",
       "      <td>0.5</td>\n",
       "      <td>0.7</td>\n",
       "      <td>0.5</td>\n",
       "      <td>0.7</td>\n",
       "      <td>0.8</td>\n",
       "      <td>0.7</td>\n",
       "      <td>0.7</td>\n",
       "      <td>1.9</td>\n",
       "      <td>1.6</td>\n",
       "      <td>1.3</td>\n",
       "      <td>1.2</td>\n",
       "    </tr>\n",
       "    <tr>\n",
       "      <th>1997-05-31</th>\n",
       "      <td>0.7</td>\n",
       "      <td>0.5</td>\n",
       "      <td>0.7</td>\n",
       "      <td>0.5</td>\n",
       "      <td>0.7</td>\n",
       "      <td>0.8</td>\n",
       "      <td>0.7</td>\n",
       "      <td>0.7</td>\n",
       "      <td>1.9</td>\n",
       "      <td>1.6</td>\n",
       "      <td>1.3</td>\n",
       "      <td>1.2</td>\n",
       "      <td>1.5</td>\n",
       "    </tr>\n",
       "  </tbody>\n",
       "</table>\n",
       "</div>"
      ],
      "text/plain": [
       "            var1(t-12)  var1(t-11)  var1(t-10)  var1(t-9)  var1(t-8)  \\\n",
       "DATE                                                                   \n",
       "1997-01-31         0.5         0.7         0.8        0.5        0.7   \n",
       "1997-02-28         0.7         0.8         0.5        0.7        0.5   \n",
       "1997-03-31         0.8         0.5         0.7        0.5        0.7   \n",
       "1997-04-30         0.5         0.7         0.5        0.7        0.5   \n",
       "1997-05-31         0.7         0.5         0.7        0.5        0.7   \n",
       "\n",
       "            var1(t-7)  var1(t-6)  var1(t-5)  var1(t-4)  var1(t-3)  var1(t-2)  \\\n",
       "DATE                                                                           \n",
       "1997-01-31        0.5        0.7        0.5        0.7        0.8        0.7   \n",
       "1997-02-28        0.7        0.5        0.7        0.8        0.7        0.7   \n",
       "1997-03-31        0.5        0.7        0.8        0.7        0.7        1.9   \n",
       "1997-04-30        0.7        0.8        0.7        0.7        1.9        1.6   \n",
       "1997-05-31        0.8        0.7        0.7        1.9        1.6        1.3   \n",
       "\n",
       "            var1(t-1)  var1(t)  \n",
       "DATE                            \n",
       "1997-01-31        0.7      1.9  \n",
       "1997-02-28        1.9      1.6  \n",
       "1997-03-31        1.6      1.3  \n",
       "1997-04-30        1.3      1.2  \n",
       "1997-05-31        1.2      1.5  "
      ]
     },
     "execution_count": 11,
     "metadata": {},
     "output_type": "execute_result"
    }
   ],
   "source": [
    "data = series_to_supervised(df,12)\n",
    "data.head()"
   ]
  },
  {
   "cell_type": "markdown",
   "id": "128a6b60-d8f0-47b8-8524-5196a1784d7c",
   "metadata": {},
   "source": [
    "*From the above transformed dataset, the lagged values of the series (from var(t-1) to var1(t-12) are used to predict the original series var1(t)*\n",
    "\n",
    "#### Train and test sets\n",
    "*Next we divide the data into train and test sets. The trained data would be used for building the model for forecasting and test data would be used for model evaluation purposes. For the test data, we use the last 12 months since the idea is to predict inflation for the next year (12 months).*"
   ]
  },
  {
   "cell_type": "code",
   "execution_count": 12,
   "id": "fe79010b-e784-40c9-9862-67d7484ae7fe",
   "metadata": {
    "tags": []
   },
   "outputs": [],
   "source": [
    "split_count = len(data)-12\n",
    "df_train = data.iloc[:split_count]\n",
    "df_test  = data.iloc[split_count:]"
   ]
  },
  {
   "cell_type": "markdown",
   "id": "2a5b2d2e-d88d-481e-a12e-dd8dedcebfdb",
   "metadata": {},
   "source": [
    "#### Rescaling data\n",
    "\n",
    "*In what follows below, the data is scaled with MinMaxscaler. This is to ensure that the input features have the same scale. When this is not the case (case of varying scale of input features), it could lead to slow convergence of the model training.\n",
    "LSTM models benefit from having input features with consistent scales which makes it easier for the model to learn. When features have varying scales (e.g., one feature ranging from 0.1 to 500 while another from 0 to 1), it can lead to slow convergence during training.*"
   ]
  },
  {
   "cell_type": "code",
   "execution_count": 13,
   "id": "faf4403d-0067-4d2e-8b8a-430354208fcc",
   "metadata": {
    "tags": []
   },
   "outputs": [],
   "source": [
    "scaler = MinMaxScaler(feature_range=(-1, 1))\n",
    "#train, test = train_test_split(data, test_size=0.2, shuffle=False)\n",
    "train = scaler.fit_transform(df_train)\n",
    "test = scaler.transform(df_test)\n",
    "\n",
    "X_train, y_train = train[:, :-1], train[:, -1]\n",
    "X_test, y_test = test[:, :-1], test[:, -1]\n",
    "\n",
    "X_train = torch.from_numpy(X_train).type(torch.Tensor)\n",
    "X_test = torch.from_numpy(X_test).type(torch.Tensor)\n",
    "y_train = torch.from_numpy(y_train).type(torch.Tensor).view(-1)\n",
    "y_test = torch.from_numpy(y_test).type(torch.Tensor).view(-1)\n",
    "\n",
    "X_train = X_train.view([X_train.shape[0], X_train.shape[1], 1])\n",
    "X_test = X_test.view([X_test.shape[0], X_test.shape[1], 1])\n"
   ]
  },
  {
   "cell_type": "markdown",
   "id": "38164964-47c4-4da7-ac39-3749291d9add",
   "metadata": {
    "tags": []
   },
   "source": [
    "#### Defining the LSTM model"
   ]
  },
  {
   "cell_type": "code",
   "execution_count": 16,
   "id": "622827aa-a875-4358-bb4b-7fb49088df73",
   "metadata": {
    "tags": []
   },
   "outputs": [],
   "source": [
    "class LSTM(nn.Module):\n",
    "    def __init__(self, input_dim, hidden_dim, num_layers, output_dim):\n",
    "        super(LSTM, self).__init__()\n",
    "        self.hidden_dim = hidden_dim\n",
    "        self.num_layers = num_layers\n",
    "        self.lstm = nn.LSTM(input_dim, hidden_dim, num_layers, batch_first=True)\n",
    "        self.fc = nn.Linear(hidden_dim, output_dim)\n",
    "\n",
    "    def forward(self, x):\n",
    "        h0 = torch.zeros(self.num_layers, x.size(0), self.hidden_dim).requires_grad_()\n",
    "        c0 = torch.zeros(self.num_layers, x.size(0), self.hidden_dim).requires_grad_()\n",
    "        out, (hn, cn) = self.lstm(x, (h0.detach(), c0.detach()))\n",
    "        out = self.fc(out[:, -1, :])\n",
    "\n",
    "        return out\n",
    "\n",
    "\n",
    "#model = LSTM(input_dim=1,\n",
    "#             hidden_dim=200,\n",
    " #            output_dim=1,\n",
    "#             num_layers=1)\n"
   ]
  },
  {
   "cell_type": "markdown",
   "id": "5650abb2-2350-436e-a914-95474ecd867c",
   "metadata": {
    "tags": []
   },
   "source": [
    "#### Hyperparameter tuning\n",
    "*In what follows, we conduct hyper-parameter tuning in order to determine the optimal number of neurons (hidden dimensions) and layers suitable for the LSTM. The below script executes the hyper-parameter tuning. We experiments from between 10 to 500 neurons and with 2 layers*"
   ]
  },
  {
   "cell_type": "code",
   "execution_count": 28,
   "id": "258fc558-c9e0-4787-8a38-aff5beeae493",
   "metadata": {
    "tags": []
   },
   "outputs": [
    {
     "name": "stderr",
     "output_type": "stream",
     "text": [
      "[I 2024-07-04 10:15:35,004] A new study created in memory with name: no-name-da564c14-8d43-4ca8-9ca8-631303b1bafb\n",
      "[I 2024-07-04 10:15:40,202] Trial 0 finished with value: 0.10708271618932486 and parameters: {'hidden_dim': 316, 'num_layers': 2}. Best is trial 0 with value: 0.10708271618932486.\n",
      "[I 2024-07-04 10:15:44,144] Trial 1 finished with value: 0.09777629561722279 and parameters: {'hidden_dim': 252, 'num_layers': 2}. Best is trial 1 with value: 0.09777629561722279.\n",
      "[I 2024-07-04 10:15:51,200] Trial 2 finished with value: 0.11457499675452709 and parameters: {'hidden_dim': 423, 'num_layers': 2}. Best is trial 1 with value: 0.09777629561722279.\n",
      "[I 2024-07-04 10:15:52,690] Trial 3 finished with value: 0.0919818424154073 and parameters: {'hidden_dim': 20, 'num_layers': 2}. Best is trial 3 with value: 0.0919818424154073.\n",
      "[I 2024-07-04 10:15:57,661] Trial 4 finished with value: 0.09503269870765507 and parameters: {'hidden_dim': 338, 'num_layers': 2}. Best is trial 3 with value: 0.0919818424154073.\n",
      "[I 2024-07-04 10:16:02,535] Trial 5 finished with value: 0.08895329711958766 and parameters: {'hidden_dim': 309, 'num_layers': 2}. Best is trial 5 with value: 0.08895329711958766.\n",
      "[I 2024-07-04 10:16:04,888] Trial 6 finished with value: 0.12078861147165298 and parameters: {'hidden_dim': 94, 'num_layers': 1}. Best is trial 5 with value: 0.08895329711958766.\n",
      "[I 2024-07-04 10:16:09,228] Trial 7 finished with value: 0.08895611460320652 and parameters: {'hidden_dim': 247, 'num_layers': 1}. Best is trial 5 with value: 0.08895329711958766.\n",
      "[I 2024-07-04 10:16:11,476] Trial 8 finished with value: 0.08880435558967292 and parameters: {'hidden_dim': 121, 'num_layers': 1}. Best is trial 8 with value: 0.08880435558967292.\n",
      "[I 2024-07-04 10:16:20,086] Trial 9 finished with value: 0.10992053057998419 and parameters: {'hidden_dim': 479, 'num_layers': 1}. Best is trial 8 with value: 0.08880435558967292.\n",
      "[I 2024-07-04 10:16:22,849] Trial 10 finished with value: 0.07609720894834027 and parameters: {'hidden_dim': 156, 'num_layers': 1}. Best is trial 10 with value: 0.07609720894834027.\n",
      "[I 2024-07-04 10:16:25,266] Trial 11 finished with value: 0.09539056848734617 and parameters: {'hidden_dim': 146, 'num_layers': 1}. Best is trial 10 with value: 0.07609720894834027.\n",
      "[I 2024-07-04 10:16:27,926] Trial 12 finished with value: 0.10920974472537637 and parameters: {'hidden_dim': 165, 'num_layers': 1}. Best is trial 10 with value: 0.07609720894834027.\n",
      "[I 2024-07-04 10:16:30,048] Trial 13 finished with value: 0.10684963641688228 and parameters: {'hidden_dim': 69, 'num_layers': 1}. Best is trial 10 with value: 0.07609720894834027.\n",
      "[I 2024-07-04 10:16:32,763] Trial 14 finished with value: 0.0986825805157423 and parameters: {'hidden_dim': 173, 'num_layers': 1}. Best is trial 10 with value: 0.07609720894834027.\n",
      "[I 2024-07-04 10:16:35,883] Trial 15 finished with value: 0.11740032862871885 and parameters: {'hidden_dim': 199, 'num_layers': 1}. Best is trial 10 with value: 0.07609720894834027.\n",
      "[I 2024-07-04 10:16:37,973] Trial 16 finished with value: 0.08239338698331267 and parameters: {'hidden_dim': 112, 'num_layers': 1}. Best is trial 10 with value: 0.07609720894834027.\n",
      "[I 2024-07-04 10:16:39,393] Trial 17 finished with value: 0.09488679841160774 and parameters: {'hidden_dim': 22, 'num_layers': 1}. Best is trial 10 with value: 0.07609720894834027.\n",
      "[I 2024-07-04 10:16:42,554] Trial 18 finished with value: 0.11871498823165894 and parameters: {'hidden_dim': 209, 'num_layers': 1}. Best is trial 10 with value: 0.07609720894834027.\n",
      "[I 2024-07-04 10:16:44,498] Trial 19 finished with value: 0.10629874095320702 and parameters: {'hidden_dim': 69, 'num_layers': 1}. Best is trial 10 with value: 0.07609720894834027.\n",
      "[I 2024-07-04 10:16:46,634] Trial 20 finished with value: 0.11204731464385986 and parameters: {'hidden_dim': 129, 'num_layers': 1}. Best is trial 10 with value: 0.07609720894834027.\n",
      "[I 2024-07-04 10:16:48,739] Trial 21 finished with value: 0.1149779730476439 and parameters: {'hidden_dim': 116, 'num_layers': 1}. Best is trial 10 with value: 0.07609720894834027.\n",
      "[I 2024-07-04 10:16:50,805] Trial 22 finished with value: 0.07646949705667794 and parameters: {'hidden_dim': 89, 'num_layers': 1}. Best is trial 10 with value: 0.07609720894834027.\n",
      "[I 2024-07-04 10:16:52,486] Trial 23 finished with value: 0.08809127286076546 and parameters: {'hidden_dim': 58, 'num_layers': 1}. Best is trial 10 with value: 0.07609720894834027.\n",
      "[I 2024-07-04 10:16:55,614] Trial 24 finished with value: 0.07787310687126592 and parameters: {'hidden_dim': 214, 'num_layers': 1}. Best is trial 10 with value: 0.07609720894834027.\n",
      "[I 2024-07-04 10:16:58,769] Trial 25 finished with value: 0.0931668016128242 and parameters: {'hidden_dim': 213, 'num_layers': 1}. Best is trial 10 with value: 0.07609720894834027.\n",
      "[I 2024-07-04 10:17:03,950] Trial 26 finished with value: 0.11426156479865313 and parameters: {'hidden_dim': 286, 'num_layers': 1}. Best is trial 10 with value: 0.07609720894834027.\n",
      "[I 2024-07-04 10:17:10,003] Trial 27 finished with value: 0.1475728191435337 and parameters: {'hidden_dim': 375, 'num_layers': 1}. Best is trial 10 with value: 0.07609720894834027.\n",
      "[I 2024-07-04 10:17:12,670] Trial 28 finished with value: 0.08918710378929973 and parameters: {'hidden_dim': 183, 'num_layers': 1}. Best is trial 10 with value: 0.07609720894834027.\n",
      "[I 2024-07-04 10:17:16,859] Trial 29 finished with value: 0.11041504796594381 and parameters: {'hidden_dim': 273, 'num_layers': 2}. Best is trial 10 with value: 0.07609720894834027.\n",
      "[I 2024-07-04 10:17:20,426] Trial 30 finished with value: 0.09882928407751024 and parameters: {'hidden_dim': 232, 'num_layers': 1}. Best is trial 10 with value: 0.07609720894834027.\n",
      "[I 2024-07-04 10:17:22,909] Trial 31 finished with value: 0.09072704706341028 and parameters: {'hidden_dim': 149, 'num_layers': 1}. Best is trial 10 with value: 0.07609720894834027.\n",
      "[I 2024-07-04 10:17:25,166] Trial 32 finished with value: 0.09420374920591712 and parameters: {'hidden_dim': 96, 'num_layers': 1}. Best is trial 10 with value: 0.07609720894834027.\n",
      "[I 2024-07-04 10:17:26,860] Trial 33 finished with value: 0.09445921843871474 and parameters: {'hidden_dim': 48, 'num_layers': 1}. Best is trial 10 with value: 0.07609720894834027.\n",
      "[I 2024-07-04 10:17:29,181] Trial 34 finished with value: 0.08710318559315056 and parameters: {'hidden_dim': 104, 'num_layers': 2}. Best is trial 10 with value: 0.07609720894834027.\n",
      "[I 2024-07-04 10:17:31,719] Trial 35 finished with value: 0.08445042930543423 and parameters: {'hidden_dim': 150, 'num_layers': 1}. Best is trial 10 with value: 0.07609720894834027.\n",
      "[I 2024-07-04 10:17:35,274] Trial 36 finished with value: 0.08848455757834017 and parameters: {'hidden_dim': 228, 'num_layers': 2}. Best is trial 10 with value: 0.07609720894834027.\n",
      "[I 2024-07-04 10:17:38,302] Trial 37 finished with value: 0.09134216257371008 and parameters: {'hidden_dim': 183, 'num_layers': 1}. Best is trial 10 with value: 0.07609720894834027.\n",
      "[I 2024-07-04 10:17:43,586] Trial 38 finished with value: 0.09689832478761673 and parameters: {'hidden_dim': 335, 'num_layers': 1}. Best is trial 10 with value: 0.07609720894834027.\n",
      "[I 2024-07-04 10:17:45,123] Trial 39 finished with value: 0.08508149674162269 and parameters: {'hidden_dim': 10, 'num_layers': 2}. Best is trial 10 with value: 0.07609720894834027.\n",
      "[I 2024-07-04 10:17:47,964] Trial 40 finished with value: 0.08850065479055047 and parameters: {'hidden_dim': 88, 'num_layers': 1}. Best is trial 10 with value: 0.07609720894834027.\n",
      "[I 2024-07-04 10:17:51,142] Trial 41 finished with value: 0.13131018914282322 and parameters: {'hidden_dim': 142, 'num_layers': 1}. Best is trial 10 with value: 0.07609720894834027.\n",
      "[I 2024-07-04 10:17:54,490] Trial 42 finished with value: 0.09863252891227603 and parameters: {'hidden_dim': 155, 'num_layers': 1}. Best is trial 10 with value: 0.07609720894834027.\n",
      "[I 2024-07-04 10:17:57,521] Trial 43 finished with value: 0.09499861858785152 and parameters: {'hidden_dim': 124, 'num_layers': 1}. Best is trial 10 with value: 0.07609720894834027.\n",
      "[I 2024-07-04 10:18:02,331] Trial 44 finished with value: 0.10678373742848635 and parameters: {'hidden_dim': 263, 'num_layers': 1}. Best is trial 10 with value: 0.07609720894834027.\n",
      "[I 2024-07-04 10:18:04,035] Trial 45 finished with value: 0.09266939922235906 and parameters: {'hidden_dim': 41, 'num_layers': 1}. Best is trial 10 with value: 0.07609720894834027.\n",
      "[I 2024-07-04 10:18:07,906] Trial 46 finished with value: 0.0801406751270406 and parameters: {'hidden_dim': 90, 'num_layers': 1}. Best is trial 10 with value: 0.07609720894834027.\n",
      "[I 2024-07-04 10:18:10,795] Trial 47 finished with value: 0.11183971632272005 and parameters: {'hidden_dim': 78, 'num_layers': 1}. Best is trial 10 with value: 0.07609720894834027.\n",
      "[I 2024-07-04 10:18:12,543] Trial 48 finished with value: 0.08701470727100968 and parameters: {'hidden_dim': 37, 'num_layers': 1}. Best is trial 10 with value: 0.07609720894834027.\n",
      "[I 2024-07-04 10:18:15,738] Trial 49 finished with value: 0.11543044168502092 and parameters: {'hidden_dim': 112, 'num_layers': 1}. Best is trial 10 with value: 0.07609720894834027.\n"
     ]
    },
    {
     "name": "stdout",
     "output_type": "stream",
     "text": [
      "Best hyperparameters:  {'hidden_dim': 156, 'num_layers': 1}\n"
     ]
    }
   ],
   "source": [
    "seed = 135\n",
    "torch.manual_seed(seed)\n",
    "\n",
    "def objective(trial):\n",
    "    # Define hyperparameters to tune\n",
    "    hidden_dim = trial.suggest_int('hidden_dim', 10, 500)\n",
    "    num_layers = trial.suggest_int('num_layers', 1, 2)\n",
    "    \n",
    "    # Create the model\n",
    "    model = LSTM(input_dim=1, hidden_dim=hidden_dim, num_layers=1, output_dim=1)\n",
    "    \n",
    "    # Define loss function and optimizer\n",
    "    criterion = nn.MSELoss()\n",
    "    optimizer = optim.Adam(model.parameters(), lr=0.001)\n",
    "    \n",
    "     \n",
    "    # Create data loaders\n",
    "    train_loader = DataLoader(TensorDataset(X_train, y_train), batch_size=8, shuffle=True)\n",
    "    val_loader = DataLoader(TensorDataset(X_test, y_test), batch_size=8, shuffle=False)\n",
    "    \n",
    "    # Training loop\n",
    "    n_epochs = 10\n",
    "    for epoch in range(n_epochs):\n",
    "        model.train()\n",
    "        for inputs, targets in train_loader:\n",
    "            optimizer.zero_grad()\n",
    "            outputs = model(inputs)\n",
    "            loss = criterion(outputs, targets)\n",
    "            loss.backward()\n",
    "            optimizer.step()\n",
    "    \n",
    "    # Validation loop\n",
    "    model.eval()\n",
    "    val_loss = 0\n",
    "    with torch.no_grad():\n",
    "        for inputs, targets in val_loader:\n",
    "            outputs = model(inputs)\n",
    "            loss = criterion(outputs, targets)\n",
    "            val_loss += loss.item()\n",
    "    \n",
    "    return val_loss / len(val_loader)\n",
    "\n",
    "# Create a study and optimize the objective function\n",
    "study = optuna.create_study(direction='minimize')\n",
    "study.optimize(objective, n_trials=50)\n",
    "\n",
    "# Print the best hyperparameters\n",
    "print('Best hyperparameters: ', study.best_params)"
   ]
  },
  {
   "cell_type": "markdown",
   "id": "df70a3af-c2e4-443b-9206-86c8f7b3c6cc",
   "metadata": {
    "tags": []
   },
   "source": [
    "*From the hyper-parameter tuning, the optimal parameters are shown above. The model is then trained using the optimal hidden layers (neurons) and number of layers*\n",
    "\n",
    "#### Model training"
   ]
  },
  {
   "cell_type": "code",
   "execution_count": 30,
   "id": "7bf6b117-0920-43d2-94d9-32e7c4b258a9",
   "metadata": {
    "tags": []
   },
   "outputs": [],
   "source": [
    "class LSTM(nn.Module):\n",
    "    def __init__(self, input_dim, hidden_dim, num_layers, output_dim):\n",
    "        super(LSTM, self).__init__()\n",
    "        self.hidden_dim = hidden_dim\n",
    "        self.num_layers = num_layers\n",
    "        self.lstm = nn.LSTM(input_dim, hidden_dim, num_layers, batch_first=True)\n",
    "        self.fc = nn.Linear(hidden_dim, output_dim)\n",
    "\n",
    "    def forward(self, x):\n",
    "        h0 = torch.zeros(self.num_layers, x.size(0), self.hidden_dim).requires_grad_()\n",
    "        c0 = torch.zeros(self.num_layers, x.size(0), self.hidden_dim).requires_grad_()\n",
    "        out, (hn, cn) = self.lstm(x, (h0.detach(), c0.detach()))\n",
    "        out = self.fc(out[:, -1, :])\n",
    "\n",
    "        return out\n",
    "\n",
    "\n",
    "model = LSTM(input_dim=1,\n",
    "             hidden_dim=study.best_params[\"hidden_dim\"],\n",
    "             output_dim=1,\n",
    "             num_layers=1)"
   ]
  },
  {
   "cell_type": "markdown",
   "id": "a6bca752-efc1-4a0e-8fe5-d9b1c54a989b",
   "metadata": {},
   "source": [
    "#### Model prediction and Evaluation"
   ]
  },
  {
   "cell_type": "markdown",
   "id": "fc2725d9-6967-4737-951b-1335662a3e8f",
   "metadata": {
    "tags": []
   },
   "source": [
    "*After the model is trained, the test data is compared against the prediction after which model evaluation (via Mean squared error) is computed. Note that during the training, the number of epochs chosen is 400. One can also conduct hyper-parameter tuning to ascertain the optimal epoch for the model. An epoch refers to a complete pass through the entire training dataset during model training. Alternatively the technique of early-stopping can also be applied to here. This is a regularization technique used in machine learning to prevent overfitting during training. Early stopping halts training when a significant deterioration (or no significant improvement) in generalization performance is observed over a predefined period. The training algorithm then returns the model parameters with the best generalization performance up to that point* "
   ]
  },
  {
   "cell_type": "code",
   "execution_count": 55,
   "id": "ab3b0eb0-08cf-4ddd-b075-9581b1d7c6d6",
   "metadata": {
    "tags": []
   },
   "outputs": [
    {
     "name": "stdout",
     "output_type": "stream",
     "text": [
      "Epoch: 0, Loss: 0.004522973205894232\n",
      "Epoch: 10, Loss: 0.009218081831932068\n",
      "Epoch: 20, Loss: 0.005788376089185476\n",
      "Epoch: 30, Loss: 0.005365513265132904\n",
      "Epoch: 40, Loss: 0.0046243565157055855\n",
      "Epoch: 50, Loss: 0.0045717209577560425\n",
      "Epoch: 60, Loss: 0.004461008124053478\n",
      "Epoch: 70, Loss: 0.004411027766764164\n",
      "Epoch: 80, Loss: 0.004370683804154396\n",
      "Epoch: 90, Loss: 0.004326186142861843\n",
      "Epoch: 100, Loss: 0.004287111572921276\n",
      "Epoch: 110, Loss: 0.00424802815541625\n",
      "Epoch: 120, Loss: 0.004210353828966618\n",
      "Epoch: 130, Loss: 0.004173269961029291\n",
      "Epoch: 140, Loss: 0.00413693068549037\n",
      "Epoch: 150, Loss: 0.0041013071313500404\n",
      "Epoch: 160, Loss: 0.004066496156156063\n",
      "Epoch: 170, Loss: 0.004032642114907503\n",
      "Epoch: 180, Loss: 0.00399992847815156\n",
      "Epoch: 190, Loss: 0.003968538250774145\n",
      "Epoch: 200, Loss: 0.003938615322113037\n",
      "Epoch: 210, Loss: 0.003910214640200138\n",
      "Epoch: 220, Loss: 0.0038832982536405325\n",
      "Epoch: 230, Loss: 0.0038577329833060503\n",
      "Epoch: 240, Loss: 0.003833327442407608\n",
      "Epoch: 250, Loss: 0.0038098639342933893\n",
      "Epoch: 260, Loss: 0.0037871154490858316\n",
      "Epoch: 270, Loss: 0.0037648805882781744\n",
      "Epoch: 280, Loss: 0.005709584336727858\n",
      "Epoch: 290, Loss: 0.004048248287290335\n",
      "Epoch: 300, Loss: 0.003824046812951565\n",
      "Epoch: 310, Loss: 0.00381962931714952\n",
      "Epoch: 320, Loss: 0.0037687765434384346\n",
      "Epoch: 330, Loss: 0.003724370151758194\n",
      "Epoch: 340, Loss: 0.0037032761611044407\n",
      "Epoch: 350, Loss: 0.0036863472778350115\n",
      "Epoch: 360, Loss: 0.003670786041766405\n",
      "Epoch: 370, Loss: 0.0036556385457515717\n",
      "Epoch: 380, Loss: 0.0036417734809219837\n",
      "Epoch: 390, Loss: 0.003628289559856057\n"
     ]
    }
   ],
   "source": [
    "loss_fn = nn.MSELoss()\n",
    "optimizer = torch.optim.Adam(model.parameters(), lr=0.001)\n",
    "\n",
    "epochs = 400\n",
    "\n",
    "for epoch in range(epochs):\n",
    "    model.train()\n",
    "    optimizer.zero_grad()\n",
    "\n",
    "    out = model(X_train).reshape(-1, )\n",
    "    loss = loss_fn(out, y_train)\n",
    "    loss.backward()\n",
    "    optimizer.step()\n",
    "\n",
    "    if epoch % 10 == 0:\n",
    "        print(f\"Epoch: {epoch}, Loss: {loss.item()}\")\n",
    "        \n",
    "\n",
    "\n"
   ]
  },
  {
   "cell_type": "code",
   "execution_count": 56,
   "id": "7a46c7ef-726c-48b6-a371-b105e05187b0",
   "metadata": {
    "tags": []
   },
   "outputs": [
    {
     "name": "stdout",
     "output_type": "stream",
     "text": [
      "Test Loss (MSE): 0.03869220241904259\n"
     ]
    }
   ],
   "source": [
    "model.eval()\n",
    "y_pred = model(X_test).reshape(-1, )\n",
    "test_loss = loss_fn(y_pred, y_test)\n",
    "print(f\"Test Loss (MSE): {test_loss.item()}\")"
   ]
  },
  {
   "cell_type": "markdown",
   "id": "e57aaa94-99aa-4822-8230-e75d31de42fa",
   "metadata": {
    "tags": []
   },
   "source": [
    "*The test loss (MSE for test data) is pretty smaller as compared to the other models (ARIMA and exponential smoothing)*\n",
    "\n",
    "*Next, we convert the predicted values back to their actual values - remember data was scaled for model training purposes.*"
   ]
  },
  {
   "cell_type": "code",
   "execution_count": 57,
   "id": "72836f44-f02b-4b75-9b3b-387720b72b7f",
   "metadata": {
    "tags": []
   },
   "outputs": [
    {
     "data": {
      "text/plain": [
       "array([5.22094498, 4.51017071, 4.17982709, 4.2820418 , 3.95854065,\n",
       "       3.41316378, 2.85188884, 3.08937505, 2.95947452, 2.46550138,\n",
       "       1.73247642, 1.19325296])"
      ]
     },
     "execution_count": 57,
     "metadata": {},
     "output_type": "execute_result"
    }
   ],
   "source": [
    "device = 'cuda:0' if torch.cuda.is_available() else 'cpu'\n",
    "\n",
    "forward=12\n",
    "\n",
    "dummies = np.zeros((X_test.shape[0], forward+1))\n",
    "dummies[:, 0] = y_pred.detach().numpy()\n",
    "dummies = scaler.inverse_transform(dummies)\n",
    "\n",
    "test_predictions = dc(dummies[:, 0])\n",
    "df_test[\"Y_Pred\"] = test_predictions\n",
    "test_predictions"
   ]
  },
  {
   "cell_type": "markdown",
   "id": "6b153a31-6c40-4c1f-be2c-bf8b2772e83f",
   "metadata": {},
   "source": [
    "#### Actual HICP Inflation (test data) and Prediction (LSTM)\n",
    "*The plot below compares the actual HICP inflation to LSTM prediction. It can be noticed that there is still some slight deviation between the two series especially at the beginning of the series. Overall the model prediction is not too far off from the actual values. Comparing the LSTM model to our previous Exponential smoothing and ARIMA models, the LSTM models has lower MSE and hence better predictive power as compared to the other models*"
   ]
  },
  {
   "cell_type": "code",
   "execution_count": 58,
   "id": "74a63576-3c7a-49c1-a2d7-44619d64011a",
   "metadata": {
    "tags": []
   },
   "outputs": [
    {
     "data": {
      "image/png": "[encoded data removed]",
      "text/plain": [
       "<Figure size 1200x500 with 1 Axes>"
      ]
     },
     "metadata": {},
     "output_type": "display_data"
    }
   ],
   "source": [
    "df_test[\"var1(t)\"].plot(legend=True, figsize=(12,5), label=\"HICP Inflation\")\n",
    "df_test[\"Y_Pred\"].plot(legend=True, label=\"LSTM Prediction\");"
   ]
  },
  {
   "cell_type": "markdown",
   "id": "af19617a-927d-4270-a7fb-c49ad47d6e38",
   "metadata": {},
   "source": [
    "### Forecasting into the future\n",
    "*To forecast into the future, we retrain the model on the full dataset after which prediction is done 12 months into the future. NOte that we do not have any test dataset to evaluate the model since we are predicting into the unknown future.*"
   ]
  },
  {
   "cell_type": "code",
   "execution_count": 59,
   "id": "f48937a1-1adb-49b8-af8d-db8eb72f909c",
   "metadata": {
    "tags": []
   },
   "outputs": [],
   "source": [
    "data_t = scaler.fit_transform(data)\n",
    "\n",
    "F_X_train, F_y_train = data_t[:, :-1],data_t[:, :-1]\n",
    "\n",
    "F_X_train = torch.from_numpy(F_X_train).type(torch.Tensor)\n",
    "F_y_train = torch.from_numpy(F_y_train).type(torch.Tensor)\n",
    "\n",
    "F_X_train = F_X_train.view([F_X_train.shape[0], F_X_train.shape[1],1])\n",
    "F_y_train = F_y_train.view([F_y_train.shape[0], F_y_train.shape[1],1])"
   ]
  },
  {
   "cell_type": "code",
   "execution_count": 60,
   "id": "0c4d795e-0bed-46bd-ba35-59ad54c681e7",
   "metadata": {
    "tags": []
   },
   "outputs": [],
   "source": [
    "class LSTM(nn.Module):\n",
    "    def __init__(self, input_dim, hidden_dim, num_layers, output_dim):\n",
    "        super(LSTM, self).__init__()\n",
    "        self.hidden_dim = hidden_dim\n",
    "        self.num_layers = num_layers\n",
    "        self.lstm = nn.LSTM(input_dim, hidden_dim, num_layers, batch_first=True)\n",
    "        self.fc = nn.Linear(hidden_dim, output_dim)\n",
    "\n",
    "    def forward(self, x):\n",
    "        h0 = torch.zeros(self.num_layers, x.size(0), self.hidden_dim).requires_grad_()\n",
    "        c0 = torch.zeros(self.num_layers, x.size(0), self.hidden_dim).requires_grad_()\n",
    "        out, (hn, cn) = self.lstm(x, (h0.detach(), c0.detach()))\n",
    "        out = self.fc(out[:, -1, :])\n",
    "\n",
    "        return out\n",
    "\n",
    "\n",
    "model_f = LSTM(input_dim=1,\n",
    "             hidden_dim=500,\n",
    "             output_dim=1,\n",
    "             num_layers=1)"
   ]
  },
  {
   "cell_type": "code",
   "execution_count": 65,
   "id": "3fb31fc3-8b8e-4e89-ac9d-bcaf14077dd8",
   "metadata": {
    "tags": []
   },
   "outputs": [],
   "source": [
    "\n",
    "optimizer = torch.optim.Adam(model_f.parameters(), lr=0.001)\n",
    "\n",
    "epochs = 400\n",
    "\n",
    "for epoch in range(epochs):\n",
    "    model_f.train()\n",
    "    optimizer.zero_grad()\n",
    "\n",
    "    out = model_f(F_X_train).reshape(-1, )\n",
    "    loss = loss_fn(out,F_y_train)\n",
    "    loss.backward()\n",
    "    optimizer.step()\n",
    "\n"
   ]
  },
  {
   "cell_type": "code",
   "execution_count": 66,
   "id": "162face0-b036-4a04-b67b-17a48058e849",
   "metadata": {
    "tags": []
   },
   "outputs": [],
   "source": [
    "# Function to predict the next value\n",
    "def predict_next(model_f, input_seq):\n",
    "    model_f.eval()\n",
    "    with torch.no_grad():\n",
    "        input_seq = input_seq.unsqueeze(0)  # Add batch dimension\n",
    "        pred = model_f(input_seq)\n",
    "    return pred.squeeze(0).item()  # Remove batch dimension and convert to scalar\n",
    "\n",
    "# Predicting 12 months into the future\n",
    "current_seq = F_X_train[-1].clone()  # Start with the last sequence in the test set\n",
    "\n",
    "future_predictions = []\n",
    "n_future_steps = 12\n",
    "\n",
    "for _ in range(n_future_steps):\n",
    "    next_pred = predict_next(model_f, current_seq)\n",
    "    future_predictions.append(next_pred)\n",
    "    \n",
    "    # Update the current sequence by appending the predicted value and removing the oldest value\n",
    "    current_seq = torch.cat((current_seq[1:], torch.tensor([[next_pred]])), dim=0)\n",
    "\n",
    "# Converting predicted values to original values    \n",
    "dummies = np.zeros((X_test.shape[0], forward+1))\n",
    "dummies[:, 0] = future_predictions\n",
    "dummies = scaler.inverse_transform(dummies)\n",
    "\n",
    "Future_predictions_12 = dc(dummies[:, 0])"
   ]
  },
  {
   "cell_type": "markdown",
   "id": "05bc6989-fe08-4da9-9545-d7377f1d712a",
   "metadata": {
    "tags": []
   },
   "source": [
    "##### 12 months predicted values (into the future)"
   ]
  },
  {
   "cell_type": "code",
   "execution_count": 67,
   "id": "e51d8b35-38ed-4168-9396-0f3284355905",
   "metadata": {
    "tags": []
   },
   "outputs": [
    {
     "data": {
      "text/html": [
       "<div>\n",
       "<style scoped>\n",
       "    .dataframe tbody tr th:only-of-type {\n",
       "        vertical-align: middle;\n",
       "    }\n",
       "\n",
       "    .dataframe tbody tr th {\n",
       "        vertical-align: top;\n",
       "    }\n",
       "\n",
       "    .dataframe thead th {\n",
       "        text-align: right;\n",
       "    }\n",
       "</style>\n",
       "<table border=\"1\" class=\"dataframe\">\n",
       "  <thead>\n",
       "    <tr style=\"text-align: right;\">\n",
       "      <th></th>\n",
       "      <th>Future LSTM Prediction</th>\n",
       "    </tr>\n",
       "  </thead>\n",
       "  <tbody>\n",
       "    <tr>\n",
       "      <th>2024-06-30</th>\n",
       "      <td>1.882408</td>\n",
       "    </tr>\n",
       "    <tr>\n",
       "      <th>2024-07-31</th>\n",
       "      <td>1.881315</td>\n",
       "    </tr>\n",
       "    <tr>\n",
       "      <th>2024-08-31</th>\n",
       "      <td>1.880934</td>\n",
       "    </tr>\n",
       "    <tr>\n",
       "      <th>2024-09-30</th>\n",
       "      <td>1.880978</td>\n",
       "    </tr>\n",
       "    <tr>\n",
       "      <th>2024-10-31</th>\n",
       "      <td>1.880833</td>\n",
       "    </tr>\n",
       "    <tr>\n",
       "      <th>2024-11-30</th>\n",
       "      <td>1.880625</td>\n",
       "    </tr>\n",
       "    <tr>\n",
       "      <th>2024-12-31</th>\n",
       "      <td>1.880366</td>\n",
       "    </tr>\n",
       "    <tr>\n",
       "      <th>2025-01-31</th>\n",
       "      <td>1.880102</td>\n",
       "    </tr>\n",
       "    <tr>\n",
       "      <th>2025-02-28</th>\n",
       "      <td>1.879712</td>\n",
       "    </tr>\n",
       "    <tr>\n",
       "      <th>2025-03-31</th>\n",
       "      <td>1.879464</td>\n",
       "    </tr>\n",
       "    <tr>\n",
       "      <th>2025-04-30</th>\n",
       "      <td>1.879313</td>\n",
       "    </tr>\n",
       "    <tr>\n",
       "      <th>2025-05-31</th>\n",
       "      <td>1.879235</td>\n",
       "    </tr>\n",
       "  </tbody>\n",
       "</table>\n",
       "</div>"
      ],
      "text/plain": [
       "            Future LSTM Prediction\n",
       "2024-06-30                1.882408\n",
       "2024-07-31                1.881315\n",
       "2024-08-31                1.880934\n",
       "2024-09-30                1.880978\n",
       "2024-10-31                1.880833\n",
       "2024-11-30                1.880625\n",
       "2024-12-31                1.880366\n",
       "2025-01-31                1.880102\n",
       "2025-02-28                1.879712\n",
       "2025-03-31                1.879464\n",
       "2025-04-30                1.879313\n",
       "2025-05-31                1.879235"
      ]
     },
     "execution_count": 67,
     "metadata": {},
     "output_type": "execute_result"
    }
   ],
   "source": [
    "start_date = pd.to_datetime('2024-06-30')\n",
    "end_date = start_date + pd.DateOffset(months=12)  \n",
    "date_index = pd.date_range(start=start_date, end=end_date, freq='MS') - pd.offsets.MonthEnd(1)\n",
    "\n",
    "Data_forecast = pd.DataFrame({'Future LSTM Prediction': Future_predictions_12})\n",
    "Data_forecast.index = date_index\n",
    "Data_forecast"
   ]
  }
 ],
 "metadata": {
  "kernelspec": {
   "display_name": "Python 3 (ipykernel)",
   "language": "python",
   "name": "python3"
  },
  "language_info": {
   "codemirror_mode": {
    "name": "ipython",
    "version": 3
   },
   "file_extension": ".py",
   "mimetype": "text/x-python",
   "name": "python",
   "nbconvert_exporter": "python",
   "pygments_lexer": "ipython3",
   "version": "3.11.5"
  }
 },
 "nbformat": 4,
 "nbformat_minor": 5
}
